{
 "cells": [
  {
   "cell_type": "markdown",
   "metadata": {},
   "source": [
    "# Building the Elo Model\n",
    "\n",
    "Now that we have prepared our data, its time to start creating our model. First though we'll need to create some additional variables that we'll use in our model and in the evaluation of our model. First though lets load our data and verify everything is as we would expect. It should look just like our output from our Data_Preparation_and_Cleaning notebook."
   ]
  },
  {
   "cell_type": "code",
   "execution_count": 1,
   "metadata": {},
   "outputs": [
    {
     "name": "stderr",
     "output_type": "stream",
     "text": [
      "Loading required package: ggplot2\n",
      "Loading required package: RColorBrewer\n",
      "Loading required package: ggthemes\n",
      "Loading required package: gridExtra\n",
      "Loading required package: lubridate\n",
      "\n",
      "Attaching package: ‘lubridate’\n",
      "\n",
      "The following object is masked from ‘package:base’:\n",
      "\n",
      "    date\n",
      "\n",
      "Loading required package: tidyr\n",
      "Loading required package: plyr\n",
      "\n",
      "Attaching package: ‘plyr’\n",
      "\n",
      "The following object is masked from ‘package:lubridate’:\n",
      "\n",
      "    here\n",
      "\n",
      "Loading required package: dplyr\n",
      "\n",
      "Attaching package: ‘dplyr’\n",
      "\n",
      "The following objects are masked from ‘package:plyr’:\n",
      "\n",
      "    arrange, count, desc, failwith, id, mutate, rename, summarise,\n",
      "    summarize\n",
      "\n",
      "The following objects are masked from ‘package:lubridate’:\n",
      "\n",
      "    intersect, setdiff, union\n",
      "\n",
      "The following object is masked from ‘package:gridExtra’:\n",
      "\n",
      "    combine\n",
      "\n",
      "The following objects are masked from ‘package:stats’:\n",
      "\n",
      "    filter, lag\n",
      "\n",
      "The following objects are masked from ‘package:base’:\n",
      "\n",
      "    intersect, setdiff, setequal, union\n",
      "\n",
      "Loading required package: reshape2\n",
      "\n",
      "Attaching package: ‘reshape2’\n",
      "\n",
      "The following object is masked from ‘package:tidyr’:\n",
      "\n",
      "    smiths\n",
      "\n",
      "Loading required package: dummies\n",
      "dummies-1.5.6 provided by Decision Patterns\n",
      "\n",
      "Loading required package: caTools\n",
      "Loading required package: rpart\n",
      "Loading required package: rpart.plot\n",
      "Loading required package: rattle\n",
      "Rattle: A free graphical interface for data science with R.\n",
      "Version 5.2.0 Copyright (c) 2006-2018 Togaware Pty Ltd.\n",
      "Type 'rattle()' to shake, rattle, and roll your data.\n"
     ]
    }
   ],
   "source": [
    "#short list of packages we'll be using\n",
    "packages <- c(\"ggplot2\",\"RColorBrewer\",\"ggthemes\",\"gridExtra\",\"lubridate\",\"tidyr\",\"plyr\",\"dplyr\",\"reshape2\",\"dummies\",\"caTools\",\"rpart\",\"rpart.plot\",\"rattle\")\n",
    "\n",
    "#install packages if they aren't already installed\n",
    "#then load the packages\n",
    "for (package in packages){\n",
    "    if(!require(package,character.only=TRUE)) install.packages(package,character.only=TRUE)\n",
    "    library(package,character.only=TRUE,quietly=TRUE)\n",
    "}"
   ]
  },
  {
   "cell_type": "code",
   "execution_count": 2,
   "metadata": {},
   "outputs": [
    {
     "data": {
      "text/html": [
       "<table>\n",
       "<thead><tr><th scope=col>X</th><th scope=col>schedule_date</th><th scope=col>schedule_season</th><th scope=col>home_team_id</th><th scope=col>away_team_id</th><th scope=col>home_score</th><th scope=col>away_score</th><th scope=col>team_favorite_id</th><th scope=col>spread_favorite</th><th scope=col>home_team_elo</th><th scope=col>away_team_elo</th><th scope=col>home_team_win_prob</th></tr></thead>\n",
       "<tbody>\n",
       "\t<tr><td>1         </td><td>2002-09-05</td><td>2002      </td><td>NYG       </td><td>SF        </td><td>13        </td><td>16        </td><td>SF        </td><td>-4.0      </td><td>1485.669  </td><td>1561.242  </td><td>0.4847889 </td></tr>\n",
       "\t<tr><td>2         </td><td>2002-09-08</td><td>2002      </td><td>BUF       </td><td>NYJ       </td><td>31        </td><td>37        </td><td>NYJ       </td><td>-3.0      </td><td>1413.251  </td><td>1535.438  </td><td>0.4184365 </td></tr>\n",
       "\t<tr><td>3         </td><td>2002-09-08</td><td>2002      </td><td>CAR       </td><td>BAL       </td><td>10        </td><td> 7        </td><td>PICK      </td><td> 0.0      </td><td>1370.952  </td><td>1572.940  </td><td>0.3124766 </td></tr>\n",
       "\t<tr><td>4         </td><td>2002-09-08</td><td>2002      </td><td>CHI       </td><td>MIN       </td><td>27        </td><td>23        </td><td>CHI       </td><td>-4.5      </td><td>1565.787  </td><td>1452.964  </td><td>0.7356794 </td></tr>\n",
       "\t<tr><td>5         </td><td>2002-09-08</td><td>2002      </td><td>CIN       </td><td>LAC       </td><td> 6        </td><td>34        </td><td>CIN       </td><td>-3.0      </td><td>1417.743  </td><td>1407.844  </td><td>0.6061490 </td></tr>\n",
       "\t<tr><td>6         </td><td>2002-09-08</td><td>2002      </td><td>CLE       </td><td>KC        </td><td>39        </td><td>40        </td><td>CLE       </td><td>-2.0      </td><td>1446.242  </td><td>1475.100  </td><td>0.5518257 </td></tr>\n",
       "</tbody>\n",
       "</table>\n"
      ],
      "text/latex": [
       "\\begin{tabular}{r|llllllllllll}\n",
       " X & schedule\\_date & schedule\\_season & home\\_team\\_id & away\\_team\\_id & home\\_score & away\\_score & team\\_favorite\\_id & spread\\_favorite & home\\_team\\_elo & away\\_team\\_elo & home\\_team\\_win\\_prob\\\\\n",
       "\\hline\n",
       "\t 1          & 2002-09-05 & 2002       & NYG        & SF         & 13         & 16         & SF         & -4.0       & 1485.669   & 1561.242   & 0.4847889 \\\\\n",
       "\t 2          & 2002-09-08 & 2002       & BUF        & NYJ        & 31         & 37         & NYJ        & -3.0       & 1413.251   & 1535.438   & 0.4184365 \\\\\n",
       "\t 3          & 2002-09-08 & 2002       & CAR        & BAL        & 10         &  7         & PICK       &  0.0       & 1370.952   & 1572.940   & 0.3124766 \\\\\n",
       "\t 4          & 2002-09-08 & 2002       & CHI        & MIN        & 27         & 23         & CHI        & -4.5       & 1565.787   & 1452.964   & 0.7356794 \\\\\n",
       "\t 5          & 2002-09-08 & 2002       & CIN        & LAC        &  6         & 34         & CIN        & -3.0       & 1417.743   & 1407.844   & 0.6061490 \\\\\n",
       "\t 6          & 2002-09-08 & 2002       & CLE        & KC         & 39         & 40         & CLE        & -2.0       & 1446.242   & 1475.100   & 0.5518257 \\\\\n",
       "\\end{tabular}\n"
      ],
      "text/markdown": [
       "\n",
       "| X | schedule_date | schedule_season | home_team_id | away_team_id | home_score | away_score | team_favorite_id | spread_favorite | home_team_elo | away_team_elo | home_team_win_prob |\n",
       "|---|---|---|---|---|---|---|---|---|---|---|---|\n",
       "| 1          | 2002-09-05 | 2002       | NYG        | SF         | 13         | 16         | SF         | -4.0       | 1485.669   | 1561.242   | 0.4847889  |\n",
       "| 2          | 2002-09-08 | 2002       | BUF        | NYJ        | 31         | 37         | NYJ        | -3.0       | 1413.251   | 1535.438   | 0.4184365  |\n",
       "| 3          | 2002-09-08 | 2002       | CAR        | BAL        | 10         |  7         | PICK       |  0.0       | 1370.952   | 1572.940   | 0.3124766  |\n",
       "| 4          | 2002-09-08 | 2002       | CHI        | MIN        | 27         | 23         | CHI        | -4.5       | 1565.787   | 1452.964   | 0.7356794  |\n",
       "| 5          | 2002-09-08 | 2002       | CIN        | LAC        |  6         | 34         | CIN        | -3.0       | 1417.743   | 1407.844   | 0.6061490  |\n",
       "| 6          | 2002-09-08 | 2002       | CLE        | KC         | 39         | 40         | CLE        | -2.0       | 1446.242   | 1475.100   | 0.5518257  |\n",
       "\n"
      ],
      "text/plain": [
       "  X schedule_date schedule_season home_team_id away_team_id home_score\n",
       "1 1 2002-09-05    2002            NYG          SF           13        \n",
       "2 2 2002-09-08    2002            BUF          NYJ          31        \n",
       "3 3 2002-09-08    2002            CAR          BAL          10        \n",
       "4 4 2002-09-08    2002            CHI          MIN          27        \n",
       "5 5 2002-09-08    2002            CIN          LAC           6        \n",
       "6 6 2002-09-08    2002            CLE          KC           39        \n",
       "  away_score team_favorite_id spread_favorite home_team_elo away_team_elo\n",
       "1 16         SF               -4.0            1485.669      1561.242     \n",
       "2 37         NYJ              -3.0            1413.251      1535.438     \n",
       "3  7         PICK              0.0            1370.952      1572.940     \n",
       "4 23         CHI              -4.5            1565.787      1452.964     \n",
       "5 34         CIN              -3.0            1417.743      1407.844     \n",
       "6 40         CLE              -2.0            1446.242      1475.100     \n",
       "  home_team_win_prob\n",
       "1 0.4847889         \n",
       "2 0.4184365         \n",
       "3 0.3124766         \n",
       "4 0.7356794         \n",
       "5 0.6061490         \n",
       "6 0.5518257         "
      ]
     },
     "metadata": {},
     "output_type": "display_data"
    }
   ],
   "source": [
    "df <- read.csv(\"data_prep_output.csv\", as.is=TRUE, header=TRUE)\n",
    "head(df)"
   ]
  },
  {
   "cell_type": "markdown",
   "metadata": {},
   "source": [
    "### The Elo Rating System\n",
    "\n",
    "As mentioned previously, the FiveThirtyEight forecasts are all based upon the Elo rating system. This rating system was developed in order to rate chess players, but has since been adapted to be used in many head-to-head competitions (such as basketball, soccer, and of course American Football).\n",
    "\n",
    "According to Wikipedia, \"Elo rating is represnted by a number which increases or decreases depending on the outcome of games between rated players. After every game, the winning player takes points from the losing one. The difference between the ratings of the winner and loser determines the total number of points gained or lost after a game.\" FiveThirtyEight uses Elo to assign ratings to each NFL team, with the average Elo being around 1500. Those ratings are then used to generate a probability of each team winning each of their games. FiveThirtyEight's model also takes into account the location of the game, giving a home field advantage Elo bump to the home teams.\n",
    "\n",
    "The Elo system is a zero-sum game, meaning that any Elo won by a team is taken from another team. In this way, we calculate an Elo gain and Elo loss for each team for each game. FiveThirtyEight's model does this using three different factors:\n",
    "\n",
    "- The K-Factor\n",
    "- The Forecast Delta\n",
    "- The Margin-of-Victory Multiplier\n",
    "\n",
    "We need need to calculate each of these in order to add them to our data to model our results. We are going to calculate everything for both the home and away team (although only one is necessary) as this will allow us to test any models on home data or away data.\n",
    "\n",
    "For a detailed description of how the Elo model works, check out: https://fivethirtyeight.com/methodology/how-our-nfl-predictions-work/"
   ]
  },
  {
   "cell_type": "markdown",
   "metadata": {},
   "source": [
    "### The K-Factor\n",
    "\n",
    "According to FiveThirtyEight, \"all Elo systems come with a special multiplier called K that regulates how quickly the ratings change in response to new information.\" In this way, the K-Factor helps a team's Elo rating stay relatively stable in the face of a few losses. As those losses accumulate over time, a team's Elo rating will plummet but if a team is able to recover from a short losing streak they won't see as much lasting damage to their Elo rating. The original K-Factor was 10 for the original rating system established for chess.\n",
    "\n",
    "This system was devised and works well for sports like baseball and basketball, which play a lot of games, but for a sport like football where teams play significantly less games, FiveThirtyEight has decided to up the K-Factor to 20. This, as they put it, is \"large enough that new results carry weight, but not so large that ratings bounce around each week.\" We would encourage you to play around with the K-factor as you see fit (perhaps finding an even better one!)."
   ]
  },
  {
   "cell_type": "code",
   "execution_count": 3,
   "metadata": {},
   "outputs": [],
   "source": [
    "k_factor <- 20"
   ]
  },
  {
   "cell_type": "markdown",
   "metadata": {},
   "source": [
    "### The Forecast Delta\n",
    "\n",
    "The forecast delta is the difference between the binary result of a game (codified as a win = 1, a loss = 0, and a tie = 0.5) and the pregame prediction generated by the Elo ratings. In order to calculate this, we'll need to calculate an Elo rating. The formula for the probability that a certain team (lets call them Team A) will win over another team (lets call them team B) is governed by this equation:\n",
    "\n",
    "<img src=\"../Images/Prob_TeamA_Win.JPG\\\">\n",
    "\n",
    "Because the equation is governed by the *EloDiff* we will need to calculate this and add it to our data. We'll do this for both the home and away team to get a probability of the home team or the away team winning. We'll also add in the home team advantage as described by FiveThirtyEight, which is an adjustment of 65 points to the home team's Elo rating."
   ]
  },
  {
   "cell_type": "code",
   "execution_count": 4,
   "metadata": {},
   "outputs": [
    {
     "data": {
      "text/html": [
       "<table>\n",
       "<thead><tr><th scope=col>X</th><th scope=col>schedule_date</th><th scope=col>schedule_season</th><th scope=col>home_team_id</th><th scope=col>away_team_id</th><th scope=col>home_score</th><th scope=col>away_score</th><th scope=col>team_favorite_id</th><th scope=col>spread_favorite</th><th scope=col>home_team_elo</th><th scope=col>away_team_elo</th><th scope=col>home_team_win_prob</th><th scope=col>home_elo_diff</th><th scope=col>away_elo_diff</th><th scope=col>home_win_prob</th><th scope=col>away_win_prob</th></tr></thead>\n",
       "<tbody>\n",
       "\t<tr><td>1         </td><td>2002-09-05</td><td>2002      </td><td>NYG       </td><td>SF        </td><td>13        </td><td>16        </td><td>SF        </td><td>-4.0      </td><td>1485.669  </td><td>1561.242  </td><td>0.4847889 </td><td> -10.573  </td><td>  10.573  </td><td>0.4847889 </td><td>0.5152111 </td></tr>\n",
       "\t<tr><td>2         </td><td>2002-09-08</td><td>2002      </td><td>BUF       </td><td>NYJ       </td><td>31        </td><td>37        </td><td>NYJ       </td><td>-3.0      </td><td>1413.251  </td><td>1535.438  </td><td>0.4184365 </td><td> -57.187  </td><td>  57.187  </td><td>0.4184365 </td><td>0.5815635 </td></tr>\n",
       "\t<tr><td>3         </td><td>2002-09-08</td><td>2002      </td><td>CAR       </td><td>BAL       </td><td>10        </td><td> 7        </td><td>PICK      </td><td> 0.0      </td><td>1370.952  </td><td>1572.940  </td><td>0.3124766 </td><td>-136.988  </td><td> 136.988  </td><td>0.3124766 </td><td>0.6875234 </td></tr>\n",
       "\t<tr><td>4         </td><td>2002-09-08</td><td>2002      </td><td>CHI       </td><td>MIN       </td><td>27        </td><td>23        </td><td>CHI       </td><td>-4.5      </td><td>1565.787  </td><td>1452.964  </td><td>0.7356794 </td><td> 177.823  </td><td>-177.823  </td><td>0.7356794 </td><td>0.2643206 </td></tr>\n",
       "\t<tr><td>5         </td><td>2002-09-08</td><td>2002      </td><td>CIN       </td><td>LAC       </td><td> 6        </td><td>34        </td><td>CIN       </td><td>-3.0      </td><td>1417.743  </td><td>1407.844  </td><td>0.6061490 </td><td>  74.899  </td><td> -74.899  </td><td>0.6061490 </td><td>0.3938510 </td></tr>\n",
       "\t<tr><td>6         </td><td>2002-09-08</td><td>2002      </td><td>CLE       </td><td>KC        </td><td>39        </td><td>40        </td><td>CLE       </td><td>-2.0      </td><td>1446.242  </td><td>1475.100  </td><td>0.5518257 </td><td>  36.142  </td><td> -36.142  </td><td>0.5518257 </td><td>0.4481743 </td></tr>\n",
       "</tbody>\n",
       "</table>\n"
      ],
      "text/latex": [
       "\\begin{tabular}{r|llllllllllllllll}\n",
       " X & schedule\\_date & schedule\\_season & home\\_team\\_id & away\\_team\\_id & home\\_score & away\\_score & team\\_favorite\\_id & spread\\_favorite & home\\_team\\_elo & away\\_team\\_elo & home\\_team\\_win\\_prob & home\\_elo\\_diff & away\\_elo\\_diff & home\\_win\\_prob & away\\_win\\_prob\\\\\n",
       "\\hline\n",
       "\t 1          & 2002-09-05 & 2002       & NYG        & SF         & 13         & 16         & SF         & -4.0       & 1485.669   & 1561.242   & 0.4847889  &  -10.573   &   10.573   & 0.4847889  & 0.5152111 \\\\\n",
       "\t 2          & 2002-09-08 & 2002       & BUF        & NYJ        & 31         & 37         & NYJ        & -3.0       & 1413.251   & 1535.438   & 0.4184365  &  -57.187   &   57.187   & 0.4184365  & 0.5815635 \\\\\n",
       "\t 3          & 2002-09-08 & 2002       & CAR        & BAL        & 10         &  7         & PICK       &  0.0       & 1370.952   & 1572.940   & 0.3124766  & -136.988   &  136.988   & 0.3124766  & 0.6875234 \\\\\n",
       "\t 4          & 2002-09-08 & 2002       & CHI        & MIN        & 27         & 23         & CHI        & -4.5       & 1565.787   & 1452.964   & 0.7356794  &  177.823   & -177.823   & 0.7356794  & 0.2643206 \\\\\n",
       "\t 5          & 2002-09-08 & 2002       & CIN        & LAC        &  6         & 34         & CIN        & -3.0       & 1417.743   & 1407.844   & 0.6061490  &   74.899   &  -74.899   & 0.6061490  & 0.3938510 \\\\\n",
       "\t 6          & 2002-09-08 & 2002       & CLE        & KC         & 39         & 40         & CLE        & -2.0       & 1446.242   & 1475.100   & 0.5518257  &   36.142   &  -36.142   & 0.5518257  & 0.4481743 \\\\\n",
       "\\end{tabular}\n"
      ],
      "text/markdown": [
       "\n",
       "| X | schedule_date | schedule_season | home_team_id | away_team_id | home_score | away_score | team_favorite_id | spread_favorite | home_team_elo | away_team_elo | home_team_win_prob | home_elo_diff | away_elo_diff | home_win_prob | away_win_prob |\n",
       "|---|---|---|---|---|---|---|---|---|---|---|---|---|---|---|---|\n",
       "| 1          | 2002-09-05 | 2002       | NYG        | SF         | 13         | 16         | SF         | -4.0       | 1485.669   | 1561.242   | 0.4847889  |  -10.573   |   10.573   | 0.4847889  | 0.5152111  |\n",
       "| 2          | 2002-09-08 | 2002       | BUF        | NYJ        | 31         | 37         | NYJ        | -3.0       | 1413.251   | 1535.438   | 0.4184365  |  -57.187   |   57.187   | 0.4184365  | 0.5815635  |\n",
       "| 3          | 2002-09-08 | 2002       | CAR        | BAL        | 10         |  7         | PICK       |  0.0       | 1370.952   | 1572.940   | 0.3124766  | -136.988   |  136.988   | 0.3124766  | 0.6875234  |\n",
       "| 4          | 2002-09-08 | 2002       | CHI        | MIN        | 27         | 23         | CHI        | -4.5       | 1565.787   | 1452.964   | 0.7356794  |  177.823   | -177.823   | 0.7356794  | 0.2643206  |\n",
       "| 5          | 2002-09-08 | 2002       | CIN        | LAC        |  6         | 34         | CIN        | -3.0       | 1417.743   | 1407.844   | 0.6061490  |   74.899   |  -74.899   | 0.6061490  | 0.3938510  |\n",
       "| 6          | 2002-09-08 | 2002       | CLE        | KC         | 39         | 40         | CLE        | -2.0       | 1446.242   | 1475.100   | 0.5518257  |   36.142   |  -36.142   | 0.5518257  | 0.4481743  |\n",
       "\n"
      ],
      "text/plain": [
       "  X schedule_date schedule_season home_team_id away_team_id home_score\n",
       "1 1 2002-09-05    2002            NYG          SF           13        \n",
       "2 2 2002-09-08    2002            BUF          NYJ          31        \n",
       "3 3 2002-09-08    2002            CAR          BAL          10        \n",
       "4 4 2002-09-08    2002            CHI          MIN          27        \n",
       "5 5 2002-09-08    2002            CIN          LAC           6        \n",
       "6 6 2002-09-08    2002            CLE          KC           39        \n",
       "  away_score team_favorite_id spread_favorite home_team_elo away_team_elo\n",
       "1 16         SF               -4.0            1485.669      1561.242     \n",
       "2 37         NYJ              -3.0            1413.251      1535.438     \n",
       "3  7         PICK              0.0            1370.952      1572.940     \n",
       "4 23         CHI              -4.5            1565.787      1452.964     \n",
       "5 34         CIN              -3.0            1417.743      1407.844     \n",
       "6 40         CLE              -2.0            1446.242      1475.100     \n",
       "  home_team_win_prob home_elo_diff away_elo_diff home_win_prob away_win_prob\n",
       "1 0.4847889           -10.573        10.573      0.4847889     0.5152111    \n",
       "2 0.4184365           -57.187        57.187      0.4184365     0.5815635    \n",
       "3 0.3124766          -136.988       136.988      0.3124766     0.6875234    \n",
       "4 0.7356794           177.823      -177.823      0.7356794     0.2643206    \n",
       "5 0.6061490            74.899       -74.899      0.6061490     0.3938510    \n",
       "6 0.5518257            36.142       -36.142      0.5518257     0.4481743    "
      ]
     },
     "metadata": {},
     "output_type": "display_data"
    }
   ],
   "source": [
    "#calculating elo_diffs\n",
    "df$home_elo_diff <- (df$home_team_elo + 65) - df$away_team_elo\n",
    "df$away_elo_diff <- df$away_team_elo - (df$home_team_elo + 65)\n",
    "\n",
    "#calculating probabilities\n",
    "df$home_win_prob <- 1 / (10^((-df$home_elo_diff)/400) + 1)\n",
    "df$away_win_prob <- 1 / (10^((-df$away_elo_diff)/400) + 1)\n",
    "\n",
    "head(df)"
   ]
  },
  {
   "cell_type": "markdown",
   "metadata": {},
   "source": [
    "You can see in the above dataframe that the home_team_win_prob column and home_win_prob are the same for the first few rows. The home_team_win_prob column was provided in the FiveThirtyEight data so we'll go ahead and get rid of it since we have calculated it (and verified that the formula is correct)."
   ]
  },
  {
   "cell_type": "code",
   "execution_count": 5,
   "metadata": {},
   "outputs": [],
   "source": [
    "#remove column and show new df\n",
    "df$home_team_win_prob <- NULL"
   ]
  },
  {
   "cell_type": "markdown",
   "metadata": {},
   "source": [
    "Now that we have the win probabilities for both the home and away team, we need to calculate the outcome of each game in order to calculate our forecast delta. We'll do this really quick in the cell below."
   ]
  },
  {
   "cell_type": "code",
   "execution_count": 6,
   "metadata": {},
   "outputs": [
    {
     "name": "stdout",
     "output_type": "stream",
     "text": [
      "[1] \"Home Result and Away Result correlation:\"\n"
     ]
    },
    {
     "data": {
      "text/html": [
       "-1"
      ],
      "text/latex": [
       "-1"
      ],
      "text/markdown": [
       "-1"
      ],
      "text/plain": [
       "[1] -1"
      ]
     },
     "metadata": {},
     "output_type": "display_data"
    },
    {
     "data": {
      "text/html": [
       "<table>\n",
       "<thead><tr><th scope=col>X</th><th scope=col>schedule_date</th><th scope=col>schedule_season</th><th scope=col>home_team_id</th><th scope=col>away_team_id</th><th scope=col>home_score</th><th scope=col>away_score</th><th scope=col>team_favorite_id</th><th scope=col>spread_favorite</th><th scope=col>home_team_elo</th><th scope=col>away_team_elo</th><th scope=col>home_elo_diff</th><th scope=col>away_elo_diff</th><th scope=col>home_win_prob</th><th scope=col>away_win_prob</th><th scope=col>home_result</th><th scope=col>away_result</th></tr></thead>\n",
       "<tbody>\n",
       "\t<tr><td>1         </td><td>2002-09-05</td><td>2002      </td><td>NYG       </td><td>SF        </td><td>13        </td><td>16        </td><td>SF        </td><td>-4.0      </td><td>1485.669  </td><td>1561.242  </td><td> -10.573  </td><td>  10.573  </td><td>0.4847889 </td><td>0.5152111 </td><td>0         </td><td>1         </td></tr>\n",
       "\t<tr><td>2         </td><td>2002-09-08</td><td>2002      </td><td>BUF       </td><td>NYJ       </td><td>31        </td><td>37        </td><td>NYJ       </td><td>-3.0      </td><td>1413.251  </td><td>1535.438  </td><td> -57.187  </td><td>  57.187  </td><td>0.4184365 </td><td>0.5815635 </td><td>0         </td><td>1         </td></tr>\n",
       "\t<tr><td>3         </td><td>2002-09-08</td><td>2002      </td><td>CAR       </td><td>BAL       </td><td>10        </td><td> 7        </td><td>PICK      </td><td> 0.0      </td><td>1370.952  </td><td>1572.940  </td><td>-136.988  </td><td> 136.988  </td><td>0.3124766 </td><td>0.6875234 </td><td>1         </td><td>0         </td></tr>\n",
       "\t<tr><td>4         </td><td>2002-09-08</td><td>2002      </td><td>CHI       </td><td>MIN       </td><td>27        </td><td>23        </td><td>CHI       </td><td>-4.5      </td><td>1565.787  </td><td>1452.964  </td><td> 177.823  </td><td>-177.823  </td><td>0.7356794 </td><td>0.2643206 </td><td>1         </td><td>0         </td></tr>\n",
       "\t<tr><td>5         </td><td>2002-09-08</td><td>2002      </td><td>CIN       </td><td>LAC       </td><td> 6        </td><td>34        </td><td>CIN       </td><td>-3.0      </td><td>1417.743  </td><td>1407.844  </td><td>  74.899  </td><td> -74.899  </td><td>0.6061490 </td><td>0.3938510 </td><td>0         </td><td>1         </td></tr>\n",
       "\t<tr><td>6         </td><td>2002-09-08</td><td>2002      </td><td>CLE       </td><td>KC        </td><td>39        </td><td>40        </td><td>CLE       </td><td>-2.0      </td><td>1446.242  </td><td>1475.100  </td><td>  36.142  </td><td> -36.142  </td><td>0.5518257 </td><td>0.4481743 </td><td>0         </td><td>1         </td></tr>\n",
       "</tbody>\n",
       "</table>\n"
      ],
      "text/latex": [
       "\\begin{tabular}{r|lllllllllllllllll}\n",
       " X & schedule\\_date & schedule\\_season & home\\_team\\_id & away\\_team\\_id & home\\_score & away\\_score & team\\_favorite\\_id & spread\\_favorite & home\\_team\\_elo & away\\_team\\_elo & home\\_elo\\_diff & away\\_elo\\_diff & home\\_win\\_prob & away\\_win\\_prob & home\\_result & away\\_result\\\\\n",
       "\\hline\n",
       "\t 1          & 2002-09-05 & 2002       & NYG        & SF         & 13         & 16         & SF         & -4.0       & 1485.669   & 1561.242   &  -10.573   &   10.573   & 0.4847889  & 0.5152111  & 0          & 1         \\\\\n",
       "\t 2          & 2002-09-08 & 2002       & BUF        & NYJ        & 31         & 37         & NYJ        & -3.0       & 1413.251   & 1535.438   &  -57.187   &   57.187   & 0.4184365  & 0.5815635  & 0          & 1         \\\\\n",
       "\t 3          & 2002-09-08 & 2002       & CAR        & BAL        & 10         &  7         & PICK       &  0.0       & 1370.952   & 1572.940   & -136.988   &  136.988   & 0.3124766  & 0.6875234  & 1          & 0         \\\\\n",
       "\t 4          & 2002-09-08 & 2002       & CHI        & MIN        & 27         & 23         & CHI        & -4.5       & 1565.787   & 1452.964   &  177.823   & -177.823   & 0.7356794  & 0.2643206  & 1          & 0         \\\\\n",
       "\t 5          & 2002-09-08 & 2002       & CIN        & LAC        &  6         & 34         & CIN        & -3.0       & 1417.743   & 1407.844   &   74.899   &  -74.899   & 0.6061490  & 0.3938510  & 0          & 1         \\\\\n",
       "\t 6          & 2002-09-08 & 2002       & CLE        & KC         & 39         & 40         & CLE        & -2.0       & 1446.242   & 1475.100   &   36.142   &  -36.142   & 0.5518257  & 0.4481743  & 0          & 1         \\\\\n",
       "\\end{tabular}\n"
      ],
      "text/markdown": [
       "\n",
       "| X | schedule_date | schedule_season | home_team_id | away_team_id | home_score | away_score | team_favorite_id | spread_favorite | home_team_elo | away_team_elo | home_elo_diff | away_elo_diff | home_win_prob | away_win_prob | home_result | away_result |\n",
       "|---|---|---|---|---|---|---|---|---|---|---|---|---|---|---|---|---|\n",
       "| 1          | 2002-09-05 | 2002       | NYG        | SF         | 13         | 16         | SF         | -4.0       | 1485.669   | 1561.242   |  -10.573   |   10.573   | 0.4847889  | 0.5152111  | 0          | 1          |\n",
       "| 2          | 2002-09-08 | 2002       | BUF        | NYJ        | 31         | 37         | NYJ        | -3.0       | 1413.251   | 1535.438   |  -57.187   |   57.187   | 0.4184365  | 0.5815635  | 0          | 1          |\n",
       "| 3          | 2002-09-08 | 2002       | CAR        | BAL        | 10         |  7         | PICK       |  0.0       | 1370.952   | 1572.940   | -136.988   |  136.988   | 0.3124766  | 0.6875234  | 1          | 0          |\n",
       "| 4          | 2002-09-08 | 2002       | CHI        | MIN        | 27         | 23         | CHI        | -4.5       | 1565.787   | 1452.964   |  177.823   | -177.823   | 0.7356794  | 0.2643206  | 1          | 0          |\n",
       "| 5          | 2002-09-08 | 2002       | CIN        | LAC        |  6         | 34         | CIN        | -3.0       | 1417.743   | 1407.844   |   74.899   |  -74.899   | 0.6061490  | 0.3938510  | 0          | 1          |\n",
       "| 6          | 2002-09-08 | 2002       | CLE        | KC         | 39         | 40         | CLE        | -2.0       | 1446.242   | 1475.100   |   36.142   |  -36.142   | 0.5518257  | 0.4481743  | 0          | 1          |\n",
       "\n"
      ],
      "text/plain": [
       "  X schedule_date schedule_season home_team_id away_team_id home_score\n",
       "1 1 2002-09-05    2002            NYG          SF           13        \n",
       "2 2 2002-09-08    2002            BUF          NYJ          31        \n",
       "3 3 2002-09-08    2002            CAR          BAL          10        \n",
       "4 4 2002-09-08    2002            CHI          MIN          27        \n",
       "5 5 2002-09-08    2002            CIN          LAC           6        \n",
       "6 6 2002-09-08    2002            CLE          KC           39        \n",
       "  away_score team_favorite_id spread_favorite home_team_elo away_team_elo\n",
       "1 16         SF               -4.0            1485.669      1561.242     \n",
       "2 37         NYJ              -3.0            1413.251      1535.438     \n",
       "3  7         PICK              0.0            1370.952      1572.940     \n",
       "4 23         CHI              -4.5            1565.787      1452.964     \n",
       "5 34         CIN              -3.0            1417.743      1407.844     \n",
       "6 40         CLE              -2.0            1446.242      1475.100     \n",
       "  home_elo_diff away_elo_diff home_win_prob away_win_prob home_result\n",
       "1  -10.573        10.573      0.4847889     0.5152111     0          \n",
       "2  -57.187        57.187      0.4184365     0.5815635     0          \n",
       "3 -136.988       136.988      0.3124766     0.6875234     1          \n",
       "4  177.823      -177.823      0.7356794     0.2643206     1          \n",
       "5   74.899       -74.899      0.6061490     0.3938510     0          \n",
       "6   36.142       -36.142      0.5518257     0.4481743     0          \n",
       "  away_result\n",
       "1 1          \n",
       "2 1          \n",
       "3 0          \n",
       "4 0          \n",
       "5 1          \n",
       "6 1          "
      ]
     },
     "metadata": {},
     "output_type": "display_data"
    }
   ],
   "source": [
    "#calculate a codeified home_result and away_result column\n",
    "df$home_result <- ifelse(df$home_score > df$away_score, 1, ifelse(df$home_score < df$away_score, 0, 0.5))\n",
    "df$away_result <- ifelse(df$away_score > df$home_score, 1, ifelse(df$away_score < df$home_score, 0, 0.5))\n",
    "\n",
    "#these should be perfectly, negatively correlated with each other\n",
    "#so we can check that our ifelse()'s worked by checking that\n",
    "print(\"Home Result and Away Result correlation:\")\n",
    "cor(df$home_result,df$away_result)\n",
    "head(df)"
   ]
  },
  {
   "cell_type": "markdown",
   "metadata": {},
   "source": [
    "With this result mapped, we can now calculate four forecast delat for each game."
   ]
  },
  {
   "cell_type": "code",
   "execution_count": 7,
   "metadata": {},
   "outputs": [
    {
     "data": {
      "text/html": [
       "<table>\n",
       "<thead><tr><th scope=col>X</th><th scope=col>schedule_date</th><th scope=col>schedule_season</th><th scope=col>home_team_id</th><th scope=col>away_team_id</th><th scope=col>home_score</th><th scope=col>away_score</th><th scope=col>team_favorite_id</th><th scope=col>spread_favorite</th><th scope=col>home_team_elo</th><th scope=col>away_team_elo</th><th scope=col>home_elo_diff</th><th scope=col>away_elo_diff</th><th scope=col>home_win_prob</th><th scope=col>away_win_prob</th><th scope=col>home_result</th><th scope=col>away_result</th><th scope=col>home_forecast_delta</th><th scope=col>away_forecast_delta</th></tr></thead>\n",
       "<tbody>\n",
       "\t<tr><td>1         </td><td>2002-09-05</td><td>2002      </td><td>NYG       </td><td>SF        </td><td>13        </td><td>16        </td><td>SF        </td><td>-4.0      </td><td>1485.669  </td><td>1561.242  </td><td> -10.573  </td><td>  10.573  </td><td>0.4847889 </td><td>0.5152111 </td><td>0         </td><td>1         </td><td>-0.4847889</td><td> 0.4847889</td></tr>\n",
       "\t<tr><td>2         </td><td>2002-09-08</td><td>2002      </td><td>BUF       </td><td>NYJ       </td><td>31        </td><td>37        </td><td>NYJ       </td><td>-3.0      </td><td>1413.251  </td><td>1535.438  </td><td> -57.187  </td><td>  57.187  </td><td>0.4184365 </td><td>0.5815635 </td><td>0         </td><td>1         </td><td>-0.4184365</td><td> 0.4184365</td></tr>\n",
       "\t<tr><td>3         </td><td>2002-09-08</td><td>2002      </td><td>CAR       </td><td>BAL       </td><td>10        </td><td> 7        </td><td>PICK      </td><td> 0.0      </td><td>1370.952  </td><td>1572.940  </td><td>-136.988  </td><td> 136.988  </td><td>0.3124766 </td><td>0.6875234 </td><td>1         </td><td>0         </td><td> 0.6875234</td><td>-0.6875234</td></tr>\n",
       "\t<tr><td>4         </td><td>2002-09-08</td><td>2002      </td><td>CHI       </td><td>MIN       </td><td>27        </td><td>23        </td><td>CHI       </td><td>-4.5      </td><td>1565.787  </td><td>1452.964  </td><td> 177.823  </td><td>-177.823  </td><td>0.7356794 </td><td>0.2643206 </td><td>1         </td><td>0         </td><td> 0.2643206</td><td>-0.2643206</td></tr>\n",
       "\t<tr><td>5         </td><td>2002-09-08</td><td>2002      </td><td>CIN       </td><td>LAC       </td><td> 6        </td><td>34        </td><td>CIN       </td><td>-3.0      </td><td>1417.743  </td><td>1407.844  </td><td>  74.899  </td><td> -74.899  </td><td>0.6061490 </td><td>0.3938510 </td><td>0         </td><td>1         </td><td>-0.6061490</td><td> 0.6061490</td></tr>\n",
       "\t<tr><td>6         </td><td>2002-09-08</td><td>2002      </td><td>CLE       </td><td>KC        </td><td>39        </td><td>40        </td><td>CLE       </td><td>-2.0      </td><td>1446.242  </td><td>1475.100  </td><td>  36.142  </td><td> -36.142  </td><td>0.5518257 </td><td>0.4481743 </td><td>0         </td><td>1         </td><td>-0.5518257</td><td> 0.5518257</td></tr>\n",
       "</tbody>\n",
       "</table>\n"
      ],
      "text/latex": [
       "\\begin{tabular}{r|lllllllllllllllllll}\n",
       " X & schedule\\_date & schedule\\_season & home\\_team\\_id & away\\_team\\_id & home\\_score & away\\_score & team\\_favorite\\_id & spread\\_favorite & home\\_team\\_elo & away\\_team\\_elo & home\\_elo\\_diff & away\\_elo\\_diff & home\\_win\\_prob & away\\_win\\_prob & home\\_result & away\\_result & home\\_forecast\\_delta & away\\_forecast\\_delta\\\\\n",
       "\\hline\n",
       "\t 1          & 2002-09-05 & 2002       & NYG        & SF         & 13         & 16         & SF         & -4.0       & 1485.669   & 1561.242   &  -10.573   &   10.573   & 0.4847889  & 0.5152111  & 0          & 1          & -0.4847889 &  0.4847889\\\\\n",
       "\t 2          & 2002-09-08 & 2002       & BUF        & NYJ        & 31         & 37         & NYJ        & -3.0       & 1413.251   & 1535.438   &  -57.187   &   57.187   & 0.4184365  & 0.5815635  & 0          & 1          & -0.4184365 &  0.4184365\\\\\n",
       "\t 3          & 2002-09-08 & 2002       & CAR        & BAL        & 10         &  7         & PICK       &  0.0       & 1370.952   & 1572.940   & -136.988   &  136.988   & 0.3124766  & 0.6875234  & 1          & 0          &  0.6875234 & -0.6875234\\\\\n",
       "\t 4          & 2002-09-08 & 2002       & CHI        & MIN        & 27         & 23         & CHI        & -4.5       & 1565.787   & 1452.964   &  177.823   & -177.823   & 0.7356794  & 0.2643206  & 1          & 0          &  0.2643206 & -0.2643206\\\\\n",
       "\t 5          & 2002-09-08 & 2002       & CIN        & LAC        &  6         & 34         & CIN        & -3.0       & 1417.743   & 1407.844   &   74.899   &  -74.899   & 0.6061490  & 0.3938510  & 0          & 1          & -0.6061490 &  0.6061490\\\\\n",
       "\t 6          & 2002-09-08 & 2002       & CLE        & KC         & 39         & 40         & CLE        & -2.0       & 1446.242   & 1475.100   &   36.142   &  -36.142   & 0.5518257  & 0.4481743  & 0          & 1          & -0.5518257 &  0.5518257\\\\\n",
       "\\end{tabular}\n"
      ],
      "text/markdown": [
       "\n",
       "| X | schedule_date | schedule_season | home_team_id | away_team_id | home_score | away_score | team_favorite_id | spread_favorite | home_team_elo | away_team_elo | home_elo_diff | away_elo_diff | home_win_prob | away_win_prob | home_result | away_result | home_forecast_delta | away_forecast_delta |\n",
       "|---|---|---|---|---|---|---|---|---|---|---|---|---|---|---|---|---|---|---|\n",
       "| 1          | 2002-09-05 | 2002       | NYG        | SF         | 13         | 16         | SF         | -4.0       | 1485.669   | 1561.242   |  -10.573   |   10.573   | 0.4847889  | 0.5152111  | 0          | 1          | -0.4847889 |  0.4847889 |\n",
       "| 2          | 2002-09-08 | 2002       | BUF        | NYJ        | 31         | 37         | NYJ        | -3.0       | 1413.251   | 1535.438   |  -57.187   |   57.187   | 0.4184365  | 0.5815635  | 0          | 1          | -0.4184365 |  0.4184365 |\n",
       "| 3          | 2002-09-08 | 2002       | CAR        | BAL        | 10         |  7         | PICK       |  0.0       | 1370.952   | 1572.940   | -136.988   |  136.988   | 0.3124766  | 0.6875234  | 1          | 0          |  0.6875234 | -0.6875234 |\n",
       "| 4          | 2002-09-08 | 2002       | CHI        | MIN        | 27         | 23         | CHI        | -4.5       | 1565.787   | 1452.964   |  177.823   | -177.823   | 0.7356794  | 0.2643206  | 1          | 0          |  0.2643206 | -0.2643206 |\n",
       "| 5          | 2002-09-08 | 2002       | CIN        | LAC        |  6         | 34         | CIN        | -3.0       | 1417.743   | 1407.844   |   74.899   |  -74.899   | 0.6061490  | 0.3938510  | 0          | 1          | -0.6061490 |  0.6061490 |\n",
       "| 6          | 2002-09-08 | 2002       | CLE        | KC         | 39         | 40         | CLE        | -2.0       | 1446.242   | 1475.100   |   36.142   |  -36.142   | 0.5518257  | 0.4481743  | 0          | 1          | -0.5518257 |  0.5518257 |\n",
       "\n"
      ],
      "text/plain": [
       "  X schedule_date schedule_season home_team_id away_team_id home_score\n",
       "1 1 2002-09-05    2002            NYG          SF           13        \n",
       "2 2 2002-09-08    2002            BUF          NYJ          31        \n",
       "3 3 2002-09-08    2002            CAR          BAL          10        \n",
       "4 4 2002-09-08    2002            CHI          MIN          27        \n",
       "5 5 2002-09-08    2002            CIN          LAC           6        \n",
       "6 6 2002-09-08    2002            CLE          KC           39        \n",
       "  away_score team_favorite_id spread_favorite home_team_elo away_team_elo\n",
       "1 16         SF               -4.0            1485.669      1561.242     \n",
       "2 37         NYJ              -3.0            1413.251      1535.438     \n",
       "3  7         PICK              0.0            1370.952      1572.940     \n",
       "4 23         CHI              -4.5            1565.787      1452.964     \n",
       "5 34         CIN              -3.0            1417.743      1407.844     \n",
       "6 40         CLE              -2.0            1446.242      1475.100     \n",
       "  home_elo_diff away_elo_diff home_win_prob away_win_prob home_result\n",
       "1  -10.573        10.573      0.4847889     0.5152111     0          \n",
       "2  -57.187        57.187      0.4184365     0.5815635     0          \n",
       "3 -136.988       136.988      0.3124766     0.6875234     1          \n",
       "4  177.823      -177.823      0.7356794     0.2643206     1          \n",
       "5   74.899       -74.899      0.6061490     0.3938510     0          \n",
       "6   36.142       -36.142      0.5518257     0.4481743     0          \n",
       "  away_result home_forecast_delta away_forecast_delta\n",
       "1 1           -0.4847889           0.4847889         \n",
       "2 1           -0.4184365           0.4184365         \n",
       "3 0            0.6875234          -0.6875234         \n",
       "4 0            0.2643206          -0.2643206         \n",
       "5 1           -0.6061490           0.6061490         \n",
       "6 1           -0.5518257           0.5518257         "
      ]
     },
     "metadata": {},
     "output_type": "display_data"
    }
   ],
   "source": [
    "df$home_forecast_delta <- df$home_result - df$home_win_prob\n",
    "df$away_forecast_delta <- df$away_result - df$away_win_prob\n",
    "head(df)"
   ]
  },
  {
   "cell_type": "markdown",
   "metadata": {},
   "source": [
    "### Margin-of-Victory Multiplier\n",
    "\n",
    "Beyond looking at just the probabilities of wins and losses, FiveThirtyEight also takes into account how much a team won or lost by. This is accounted for in what FiveThirtyEight calls the Margin of Victory (MoV) multiplier. The MoV is calculated using the following formula:\n",
    "\n",
    "<img src=\"../Images/MOV_Multiplier.JPG\\\">\n",
    "\n",
    "We will create a column for both *MoVMultiplier* and *WinnerPointDiff* in the next cell."
   ]
  },
  {
   "cell_type": "code",
   "execution_count": 8,
   "metadata": {},
   "outputs": [
    {
     "data": {
      "text/html": [
       "<table>\n",
       "<thead><tr><th scope=col>X</th><th scope=col>schedule_date</th><th scope=col>schedule_season</th><th scope=col>home_team_id</th><th scope=col>away_team_id</th><th scope=col>home_score</th><th scope=col>away_score</th><th scope=col>team_favorite_id</th><th scope=col>spread_favorite</th><th scope=col>home_team_elo</th><th scope=col>⋯</th><th scope=col>home_elo_diff</th><th scope=col>away_elo_diff</th><th scope=col>home_win_prob</th><th scope=col>away_win_prob</th><th scope=col>home_result</th><th scope=col>away_result</th><th scope=col>home_forecast_delta</th><th scope=col>away_forecast_delta</th><th scope=col>winner_point_diff</th><th scope=col>mov_multiplier</th></tr></thead>\n",
       "<tbody>\n",
       "\t<tr><td>1         </td><td>2002-09-05</td><td>2002      </td><td>NYG       </td><td>SF        </td><td>13        </td><td>16        </td><td>SF        </td><td>-4.0      </td><td>1485.669  </td><td>⋯         </td><td> -10.573  </td><td>  10.573  </td><td>0.4847889 </td><td>0.5152111 </td><td>0         </td><td>1         </td><td>-0.4847889</td><td> 0.4847889</td><td> -3       </td><td>1.3402548 </td></tr>\n",
       "\t<tr><td>2         </td><td>2002-09-08</td><td>2002      </td><td>BUF       </td><td>NYJ       </td><td>31        </td><td>37        </td><td>NYJ       </td><td>-3.0      </td><td>1413.251  </td><td>⋯         </td><td> -57.187  </td><td>  57.187  </td><td>0.4184365 </td><td>0.5815635 </td><td>0         </td><td>1         </td><td>-0.4184365</td><td> 0.4184365</td><td> -6       </td><td>1.8435218 </td></tr>\n",
       "\t<tr><td>3         </td><td>2002-09-08</td><td>2002      </td><td>CAR       </td><td>BAL       </td><td>10        </td><td> 7        </td><td>PICK      </td><td> 0.0      </td><td>1370.952  </td><td>⋯         </td><td>-136.988  </td><td> 136.988  </td><td>0.3124766 </td><td>0.6875234 </td><td>1         </td><td>0         </td><td> 0.6875234</td><td>-0.6875234</td><td>  3       </td><td>1.5264411 </td></tr>\n",
       "\t<tr><td>4         </td><td>2002-09-08</td><td>2002      </td><td>CHI       </td><td>MIN       </td><td>27        </td><td>23        </td><td>CHI       </td><td>-4.5      </td><td>1565.787  </td><td>⋯         </td><td> 177.823  </td><td>-177.823  </td><td>0.7356794 </td><td>0.2643206 </td><td>1         </td><td>0         </td><td> 0.2643206</td><td>-0.2643206</td><td>  4       </td><td>1.5309271 </td></tr>\n",
       "\t<tr><td>5         </td><td>2002-09-08</td><td>2002      </td><td>CIN       </td><td>LAC       </td><td> 6        </td><td>34        </td><td>CIN       </td><td>-3.0      </td><td>1417.743  </td><td>⋯         </td><td>  74.899  </td><td> -74.899  </td><td>0.6061490 </td><td>0.3938510 </td><td>0         </td><td>1         </td><td>-0.6061490</td><td> 0.6061490</td><td>-28       </td><td>3.3825156 </td></tr>\n",
       "\t<tr><td>6         </td><td>2002-09-08</td><td>2002      </td><td>CLE       </td><td>KC        </td><td>39        </td><td>40        </td><td>CLE       </td><td>-2.0      </td><td>1446.242  </td><td>⋯         </td><td>  36.142  </td><td> -36.142  </td><td>0.5518257 </td><td>0.4481743 </td><td>0         </td><td>1         </td><td>-0.5518257</td><td> 0.5518257</td><td> -1       </td><td>0.6841727 </td></tr>\n",
       "</tbody>\n",
       "</table>\n"
      ],
      "text/latex": [
       "\\begin{tabular}{r|lllllllllllllllllllll}\n",
       " X & schedule\\_date & schedule\\_season & home\\_team\\_id & away\\_team\\_id & home\\_score & away\\_score & team\\_favorite\\_id & spread\\_favorite & home\\_team\\_elo & ⋯ & home\\_elo\\_diff & away\\_elo\\_diff & home\\_win\\_prob & away\\_win\\_prob & home\\_result & away\\_result & home\\_forecast\\_delta & away\\_forecast\\_delta & winner\\_point\\_diff & mov\\_multiplier\\\\\n",
       "\\hline\n",
       "\t 1          & 2002-09-05 & 2002       & NYG        & SF         & 13         & 16         & SF         & -4.0       & 1485.669   & ⋯          &  -10.573   &   10.573   & 0.4847889  & 0.5152111  & 0          & 1          & -0.4847889 &  0.4847889 &  -3        & 1.3402548 \\\\\n",
       "\t 2          & 2002-09-08 & 2002       & BUF        & NYJ        & 31         & 37         & NYJ        & -3.0       & 1413.251   & ⋯          &  -57.187   &   57.187   & 0.4184365  & 0.5815635  & 0          & 1          & -0.4184365 &  0.4184365 &  -6        & 1.8435218 \\\\\n",
       "\t 3          & 2002-09-08 & 2002       & CAR        & BAL        & 10         &  7         & PICK       &  0.0       & 1370.952   & ⋯          & -136.988   &  136.988   & 0.3124766  & 0.6875234  & 1          & 0          &  0.6875234 & -0.6875234 &   3        & 1.5264411 \\\\\n",
       "\t 4          & 2002-09-08 & 2002       & CHI        & MIN        & 27         & 23         & CHI        & -4.5       & 1565.787   & ⋯          &  177.823   & -177.823   & 0.7356794  & 0.2643206  & 1          & 0          &  0.2643206 & -0.2643206 &   4        & 1.5309271 \\\\\n",
       "\t 5          & 2002-09-08 & 2002       & CIN        & LAC        &  6         & 34         & CIN        & -3.0       & 1417.743   & ⋯          &   74.899   &  -74.899   & 0.6061490  & 0.3938510  & 0          & 1          & -0.6061490 &  0.6061490 & -28        & 3.3825156 \\\\\n",
       "\t 6          & 2002-09-08 & 2002       & CLE        & KC         & 39         & 40         & CLE        & -2.0       & 1446.242   & ⋯          &   36.142   &  -36.142   & 0.5518257  & 0.4481743  & 0          & 1          & -0.5518257 &  0.5518257 &  -1        & 0.6841727 \\\\\n",
       "\\end{tabular}\n"
      ],
      "text/markdown": [
       "\n",
       "| X | schedule_date | schedule_season | home_team_id | away_team_id | home_score | away_score | team_favorite_id | spread_favorite | home_team_elo | ⋯ | home_elo_diff | away_elo_diff | home_win_prob | away_win_prob | home_result | away_result | home_forecast_delta | away_forecast_delta | winner_point_diff | mov_multiplier |\n",
       "|---|---|---|---|---|---|---|---|---|---|---|---|---|---|---|---|---|---|---|---|---|\n",
       "| 1          | 2002-09-05 | 2002       | NYG        | SF         | 13         | 16         | SF         | -4.0       | 1485.669   | ⋯          |  -10.573   |   10.573   | 0.4847889  | 0.5152111  | 0          | 1          | -0.4847889 |  0.4847889 |  -3        | 1.3402548  |\n",
       "| 2          | 2002-09-08 | 2002       | BUF        | NYJ        | 31         | 37         | NYJ        | -3.0       | 1413.251   | ⋯          |  -57.187   |   57.187   | 0.4184365  | 0.5815635  | 0          | 1          | -0.4184365 |  0.4184365 |  -6        | 1.8435218  |\n",
       "| 3          | 2002-09-08 | 2002       | CAR        | BAL        | 10         |  7         | PICK       |  0.0       | 1370.952   | ⋯          | -136.988   |  136.988   | 0.3124766  | 0.6875234  | 1          | 0          |  0.6875234 | -0.6875234 |   3        | 1.5264411  |\n",
       "| 4          | 2002-09-08 | 2002       | CHI        | MIN        | 27         | 23         | CHI        | -4.5       | 1565.787   | ⋯          |  177.823   | -177.823   | 0.7356794  | 0.2643206  | 1          | 0          |  0.2643206 | -0.2643206 |   4        | 1.5309271  |\n",
       "| 5          | 2002-09-08 | 2002       | CIN        | LAC        |  6         | 34         | CIN        | -3.0       | 1417.743   | ⋯          |   74.899   |  -74.899   | 0.6061490  | 0.3938510  | 0          | 1          | -0.6061490 |  0.6061490 | -28        | 3.3825156  |\n",
       "| 6          | 2002-09-08 | 2002       | CLE        | KC         | 39         | 40         | CLE        | -2.0       | 1446.242   | ⋯          |   36.142   |  -36.142   | 0.5518257  | 0.4481743  | 0          | 1          | -0.5518257 |  0.5518257 |  -1        | 0.6841727  |\n",
       "\n"
      ],
      "text/plain": [
       "  X schedule_date schedule_season home_team_id away_team_id home_score\n",
       "1 1 2002-09-05    2002            NYG          SF           13        \n",
       "2 2 2002-09-08    2002            BUF          NYJ          31        \n",
       "3 3 2002-09-08    2002            CAR          BAL          10        \n",
       "4 4 2002-09-08    2002            CHI          MIN          27        \n",
       "5 5 2002-09-08    2002            CIN          LAC           6        \n",
       "6 6 2002-09-08    2002            CLE          KC           39        \n",
       "  away_score team_favorite_id spread_favorite home_team_elo ⋯ home_elo_diff\n",
       "1 16         SF               -4.0            1485.669      ⋯  -10.573     \n",
       "2 37         NYJ              -3.0            1413.251      ⋯  -57.187     \n",
       "3  7         PICK              0.0            1370.952      ⋯ -136.988     \n",
       "4 23         CHI              -4.5            1565.787      ⋯  177.823     \n",
       "5 34         CIN              -3.0            1417.743      ⋯   74.899     \n",
       "6 40         CLE              -2.0            1446.242      ⋯   36.142     \n",
       "  away_elo_diff home_win_prob away_win_prob home_result away_result\n",
       "1   10.573      0.4847889     0.5152111     0           1          \n",
       "2   57.187      0.4184365     0.5815635     0           1          \n",
       "3  136.988      0.3124766     0.6875234     1           0          \n",
       "4 -177.823      0.7356794     0.2643206     1           0          \n",
       "5  -74.899      0.6061490     0.3938510     0           1          \n",
       "6  -36.142      0.5518257     0.4481743     0           1          \n",
       "  home_forecast_delta away_forecast_delta winner_point_diff mov_multiplier\n",
       "1 -0.4847889           0.4847889           -3               1.3402548     \n",
       "2 -0.4184365           0.4184365           -6               1.8435218     \n",
       "3  0.6875234          -0.6875234            3               1.5264411     \n",
       "4  0.2643206          -0.2643206            4               1.5309271     \n",
       "5 -0.6061490           0.6061490          -28               3.3825156     \n",
       "6 -0.5518257           0.5518257           -1               0.6841727     "
      ]
     },
     "metadata": {},
     "output_type": "display_data"
    }
   ],
   "source": [
    "#calculate winner_point_diff\n",
    "df$winner_point_diff <- df$home_score - df$away_score\n",
    "\n",
    "#calculate mov_multiplier\n",
    "df$mov_multiplier <- ifelse(\n",
    "    df$winner_point_diff > 0,\n",
    "    ((log(abs(df$winner_point_diff)+1))* (2.2/((df$home_team_elo - df$away_team_elo)*0.001+2.2))),\n",
    "    ((log(abs(df$winner_point_diff)+1))* (2.2/((df$away_team_elo - df$home_team_elo)*0.001+2.2)))\n",
    ")\n",
    "\n",
    "head(df)"
   ]
  },
  {
   "cell_type": "markdown",
   "metadata": {},
   "source": [
    "### Calculating Change in Elo\n",
    "\n",
    "Now that we have our K-factor established, our forecast deltas generated, and our margin-of-victory multiplier calculated, we can find the Elo change for each team after each game by simply multiplying all of these values together.\n",
    "\n",
    "The formula for the change in Elo (Delta Elo) is simply the K-Factor multiplied by the Margin-of-Victory (MoV) multiplier multiplied by the Forecast Delta, which recall is codified as the predicted result (1 for a win, 0 for a loss, and 0.5 for a tie) minus the predicted probability.\n",
    "\n",
    "For any given team (we'll call them A), the formula looks like this:\n",
    "\n",
    "$$\\Delta Elo(A) = K * MoV * (Pred(A) - Prob(A))$$\n",
    "\n",
    "We will calculate this for each game in our data below."
   ]
  },
  {
   "cell_type": "code",
   "execution_count": 9,
   "metadata": {},
   "outputs": [
    {
     "data": {
      "text/html": [
       "<table>\n",
       "<thead><tr><th scope=col>X</th><th scope=col>schedule_date</th><th scope=col>schedule_season</th><th scope=col>home_team_id</th><th scope=col>away_team_id</th><th scope=col>home_score</th><th scope=col>away_score</th><th scope=col>team_favorite_id</th><th scope=col>spread_favorite</th><th scope=col>home_team_elo</th><th scope=col>⋯</th><th scope=col>home_win_prob</th><th scope=col>away_win_prob</th><th scope=col>home_result</th><th scope=col>away_result</th><th scope=col>home_forecast_delta</th><th scope=col>away_forecast_delta</th><th scope=col>winner_point_diff</th><th scope=col>mov_multiplier</th><th scope=col>home_elo_change</th><th scope=col>away_elo_change</th></tr></thead>\n",
       "<tbody>\n",
       "\t<tr><td>1         </td><td>2002-09-05</td><td>2002      </td><td>NYG       </td><td>SF        </td><td>13        </td><td>16        </td><td>SF        </td><td>-4.0      </td><td>1485.669  </td><td>⋯         </td><td>0.4847889 </td><td>0.5152111 </td><td>0         </td><td>1         </td><td>-0.4847889</td><td> 0.4847889</td><td> -3       </td><td>1.3402548 </td><td>-12.994814</td><td> 12.994814</td></tr>\n",
       "\t<tr><td>2         </td><td>2002-09-08</td><td>2002      </td><td>BUF       </td><td>NYJ       </td><td>31        </td><td>37        </td><td>NYJ       </td><td>-3.0      </td><td>1413.251  </td><td>⋯         </td><td>0.4184365 </td><td>0.5815635 </td><td>0         </td><td>1         </td><td>-0.4184365</td><td> 0.4184365</td><td> -6       </td><td>1.8435218 </td><td>-15.427938</td><td> 15.427938</td></tr>\n",
       "\t<tr><td>3         </td><td>2002-09-08</td><td>2002      </td><td>CAR       </td><td>BAL       </td><td>10        </td><td> 7        </td><td>PICK      </td><td> 0.0      </td><td>1370.952  </td><td>⋯         </td><td>0.3124766 </td><td>0.6875234 </td><td>1         </td><td>0         </td><td> 0.6875234</td><td>-0.6875234</td><td>  3       </td><td>1.5264411 </td><td> 20.989279</td><td>-20.989279</td></tr>\n",
       "\t<tr><td>4         </td><td>2002-09-08</td><td>2002      </td><td>CHI       </td><td>MIN       </td><td>27        </td><td>23        </td><td>CHI       </td><td>-4.5      </td><td>1565.787  </td><td>⋯         </td><td>0.7356794 </td><td>0.2643206 </td><td>1         </td><td>0         </td><td> 0.2643206</td><td>-0.2643206</td><td>  4       </td><td>1.5309271 </td><td>  8.093113</td><td> -8.093113</td></tr>\n",
       "\t<tr><td>5         </td><td>2002-09-08</td><td>2002      </td><td>CIN       </td><td>LAC       </td><td> 6        </td><td>34        </td><td>CIN       </td><td>-3.0      </td><td>1417.743  </td><td>⋯         </td><td>0.6061490 </td><td>0.3938510 </td><td>0         </td><td>1         </td><td>-0.6061490</td><td> 0.6061490</td><td>-28       </td><td>3.3825156 </td><td>-41.006171</td><td> 41.006171</td></tr>\n",
       "\t<tr><td>6         </td><td>2002-09-08</td><td>2002      </td><td>CLE       </td><td>KC        </td><td>39        </td><td>40        </td><td>CLE       </td><td>-2.0      </td><td>1446.242  </td><td>⋯         </td><td>0.5518257 </td><td>0.4481743 </td><td>0         </td><td>1         </td><td>-0.5518257</td><td> 0.5518257</td><td> -1       </td><td>0.6841727 </td><td> -7.550882</td><td>  7.550882</td></tr>\n",
       "</tbody>\n",
       "</table>\n"
      ],
      "text/latex": [
       "\\begin{tabular}{r|lllllllllllllllllllllll}\n",
       " X & schedule\\_date & schedule\\_season & home\\_team\\_id & away\\_team\\_id & home\\_score & away\\_score & team\\_favorite\\_id & spread\\_favorite & home\\_team\\_elo & ⋯ & home\\_win\\_prob & away\\_win\\_prob & home\\_result & away\\_result & home\\_forecast\\_delta & away\\_forecast\\_delta & winner\\_point\\_diff & mov\\_multiplier & home\\_elo\\_change & away\\_elo\\_change\\\\\n",
       "\\hline\n",
       "\t 1          & 2002-09-05 & 2002       & NYG        & SF         & 13         & 16         & SF         & -4.0       & 1485.669   & ⋯          & 0.4847889  & 0.5152111  & 0          & 1          & -0.4847889 &  0.4847889 &  -3        & 1.3402548  & -12.994814 &  12.994814\\\\\n",
       "\t 2          & 2002-09-08 & 2002       & BUF        & NYJ        & 31         & 37         & NYJ        & -3.0       & 1413.251   & ⋯          & 0.4184365  & 0.5815635  & 0          & 1          & -0.4184365 &  0.4184365 &  -6        & 1.8435218  & -15.427938 &  15.427938\\\\\n",
       "\t 3          & 2002-09-08 & 2002       & CAR        & BAL        & 10         &  7         & PICK       &  0.0       & 1370.952   & ⋯          & 0.3124766  & 0.6875234  & 1          & 0          &  0.6875234 & -0.6875234 &   3        & 1.5264411  &  20.989279 & -20.989279\\\\\n",
       "\t 4          & 2002-09-08 & 2002       & CHI        & MIN        & 27         & 23         & CHI        & -4.5       & 1565.787   & ⋯          & 0.7356794  & 0.2643206  & 1          & 0          &  0.2643206 & -0.2643206 &   4        & 1.5309271  &   8.093113 &  -8.093113\\\\\n",
       "\t 5          & 2002-09-08 & 2002       & CIN        & LAC        &  6         & 34         & CIN        & -3.0       & 1417.743   & ⋯          & 0.6061490  & 0.3938510  & 0          & 1          & -0.6061490 &  0.6061490 & -28        & 3.3825156  & -41.006171 &  41.006171\\\\\n",
       "\t 6          & 2002-09-08 & 2002       & CLE        & KC         & 39         & 40         & CLE        & -2.0       & 1446.242   & ⋯          & 0.5518257  & 0.4481743  & 0          & 1          & -0.5518257 &  0.5518257 &  -1        & 0.6841727  &  -7.550882 &   7.550882\\\\\n",
       "\\end{tabular}\n"
      ],
      "text/markdown": [
       "\n",
       "| X | schedule_date | schedule_season | home_team_id | away_team_id | home_score | away_score | team_favorite_id | spread_favorite | home_team_elo | ⋯ | home_win_prob | away_win_prob | home_result | away_result | home_forecast_delta | away_forecast_delta | winner_point_diff | mov_multiplier | home_elo_change | away_elo_change |\n",
       "|---|---|---|---|---|---|---|---|---|---|---|---|---|---|---|---|---|---|---|---|---|\n",
       "| 1          | 2002-09-05 | 2002       | NYG        | SF         | 13         | 16         | SF         | -4.0       | 1485.669   | ⋯          | 0.4847889  | 0.5152111  | 0          | 1          | -0.4847889 |  0.4847889 |  -3        | 1.3402548  | -12.994814 |  12.994814 |\n",
       "| 2          | 2002-09-08 | 2002       | BUF        | NYJ        | 31         | 37         | NYJ        | -3.0       | 1413.251   | ⋯          | 0.4184365  | 0.5815635  | 0          | 1          | -0.4184365 |  0.4184365 |  -6        | 1.8435218  | -15.427938 |  15.427938 |\n",
       "| 3          | 2002-09-08 | 2002       | CAR        | BAL        | 10         |  7         | PICK       |  0.0       | 1370.952   | ⋯          | 0.3124766  | 0.6875234  | 1          | 0          |  0.6875234 | -0.6875234 |   3        | 1.5264411  |  20.989279 | -20.989279 |\n",
       "| 4          | 2002-09-08 | 2002       | CHI        | MIN        | 27         | 23         | CHI        | -4.5       | 1565.787   | ⋯          | 0.7356794  | 0.2643206  | 1          | 0          |  0.2643206 | -0.2643206 |   4        | 1.5309271  |   8.093113 |  -8.093113 |\n",
       "| 5          | 2002-09-08 | 2002       | CIN        | LAC        |  6         | 34         | CIN        | -3.0       | 1417.743   | ⋯          | 0.6061490  | 0.3938510  | 0          | 1          | -0.6061490 |  0.6061490 | -28        | 3.3825156  | -41.006171 |  41.006171 |\n",
       "| 6          | 2002-09-08 | 2002       | CLE        | KC         | 39         | 40         | CLE        | -2.0       | 1446.242   | ⋯          | 0.5518257  | 0.4481743  | 0          | 1          | -0.5518257 |  0.5518257 |  -1        | 0.6841727  |  -7.550882 |   7.550882 |\n",
       "\n"
      ],
      "text/plain": [
       "  X schedule_date schedule_season home_team_id away_team_id home_score\n",
       "1 1 2002-09-05    2002            NYG          SF           13        \n",
       "2 2 2002-09-08    2002            BUF          NYJ          31        \n",
       "3 3 2002-09-08    2002            CAR          BAL          10        \n",
       "4 4 2002-09-08    2002            CHI          MIN          27        \n",
       "5 5 2002-09-08    2002            CIN          LAC           6        \n",
       "6 6 2002-09-08    2002            CLE          KC           39        \n",
       "  away_score team_favorite_id spread_favorite home_team_elo ⋯ home_win_prob\n",
       "1 16         SF               -4.0            1485.669      ⋯ 0.4847889    \n",
       "2 37         NYJ              -3.0            1413.251      ⋯ 0.4184365    \n",
       "3  7         PICK              0.0            1370.952      ⋯ 0.3124766    \n",
       "4 23         CHI              -4.5            1565.787      ⋯ 0.7356794    \n",
       "5 34         CIN              -3.0            1417.743      ⋯ 0.6061490    \n",
       "6 40         CLE              -2.0            1446.242      ⋯ 0.5518257    \n",
       "  away_win_prob home_result away_result home_forecast_delta away_forecast_delta\n",
       "1 0.5152111     0           1           -0.4847889           0.4847889         \n",
       "2 0.5815635     0           1           -0.4184365           0.4184365         \n",
       "3 0.6875234     1           0            0.6875234          -0.6875234         \n",
       "4 0.2643206     1           0            0.2643206          -0.2643206         \n",
       "5 0.3938510     0           1           -0.6061490           0.6061490         \n",
       "6 0.4481743     0           1           -0.5518257           0.5518257         \n",
       "  winner_point_diff mov_multiplier home_elo_change away_elo_change\n",
       "1  -3               1.3402548      -12.994814       12.994814     \n",
       "2  -6               1.8435218      -15.427938       15.427938     \n",
       "3   3               1.5264411       20.989279      -20.989279     \n",
       "4   4               1.5309271        8.093113       -8.093113     \n",
       "5 -28               3.3825156      -41.006171       41.006171     \n",
       "6  -1               0.6841727       -7.550882        7.550882     "
      ]
     },
     "metadata": {},
     "output_type": "display_data"
    }
   ],
   "source": [
    "#calculate the elo change\n",
    "df$home_elo_change <- k_factor * df$mov_multiplier * df$home_forecast_delta\n",
    "df$away_elo_change <- k_factor * df$mov_multiplier * df$away_forecast_delta\n",
    "\n",
    "#calculate both the new elos for the team after the game\n",
    "head(df)"
   ]
  },
  {
   "cell_type": "markdown",
   "metadata": {},
   "source": [
    "Now we can calculate a new, post-game Elo for each team."
   ]
  },
  {
   "cell_type": "code",
   "execution_count": 10,
   "metadata": {},
   "outputs": [
    {
     "data": {
      "text/html": [
       "<table>\n",
       "<thead><tr><th scope=col>X</th><th scope=col>schedule_date</th><th scope=col>schedule_season</th><th scope=col>home_team_id</th><th scope=col>away_team_id</th><th scope=col>home_score</th><th scope=col>away_score</th><th scope=col>team_favorite_id</th><th scope=col>spread_favorite</th><th scope=col>home_team_elo</th><th scope=col>⋯</th><th scope=col>home_result</th><th scope=col>away_result</th><th scope=col>home_forecast_delta</th><th scope=col>away_forecast_delta</th><th scope=col>winner_point_diff</th><th scope=col>mov_multiplier</th><th scope=col>home_elo_change</th><th scope=col>away_elo_change</th><th scope=col>home_elo_new</th><th scope=col>away_elo_new</th></tr></thead>\n",
       "<tbody>\n",
       "\t<tr><td>1         </td><td>2002-09-05</td><td>2002      </td><td>NYG       </td><td>SF        </td><td>13        </td><td>16        </td><td>SF        </td><td>-4.0      </td><td>1485.669  </td><td>⋯         </td><td>0         </td><td>1         </td><td>-0.4847889</td><td> 0.4847889</td><td> -3       </td><td>1.3402548 </td><td>-12.994814</td><td> 12.994814</td><td>1472.674  </td><td>1574.237  </td></tr>\n",
       "\t<tr><td>2         </td><td>2002-09-08</td><td>2002      </td><td>BUF       </td><td>NYJ       </td><td>31        </td><td>37        </td><td>NYJ       </td><td>-3.0      </td><td>1413.251  </td><td>⋯         </td><td>0         </td><td>1         </td><td>-0.4184365</td><td> 0.4184365</td><td> -6       </td><td>1.8435218 </td><td>-15.427938</td><td> 15.427938</td><td>1397.823  </td><td>1550.866  </td></tr>\n",
       "\t<tr><td>3         </td><td>2002-09-08</td><td>2002      </td><td>CAR       </td><td>BAL       </td><td>10        </td><td> 7        </td><td>PICK      </td><td> 0.0      </td><td>1370.952  </td><td>⋯         </td><td>1         </td><td>0         </td><td> 0.6875234</td><td>-0.6875234</td><td>  3       </td><td>1.5264411 </td><td> 20.989279</td><td>-20.989279</td><td>1391.941  </td><td>1551.951  </td></tr>\n",
       "\t<tr><td>4         </td><td>2002-09-08</td><td>2002      </td><td>CHI       </td><td>MIN       </td><td>27        </td><td>23        </td><td>CHI       </td><td>-4.5      </td><td>1565.787  </td><td>⋯         </td><td>1         </td><td>0         </td><td> 0.2643206</td><td>-0.2643206</td><td>  4       </td><td>1.5309271 </td><td>  8.093113</td><td> -8.093113</td><td>1573.880  </td><td>1444.871  </td></tr>\n",
       "\t<tr><td>5         </td><td>2002-09-08</td><td>2002      </td><td>CIN       </td><td>LAC       </td><td> 6        </td><td>34        </td><td>CIN       </td><td>-3.0      </td><td>1417.743  </td><td>⋯         </td><td>0         </td><td>1         </td><td>-0.6061490</td><td> 0.6061490</td><td>-28       </td><td>3.3825156 </td><td>-41.006171</td><td> 41.006171</td><td>1376.737  </td><td>1448.850  </td></tr>\n",
       "\t<tr><td>6         </td><td>2002-09-08</td><td>2002      </td><td>CLE       </td><td>KC        </td><td>39        </td><td>40        </td><td>CLE       </td><td>-2.0      </td><td>1446.242  </td><td>⋯         </td><td>0         </td><td>1         </td><td>-0.5518257</td><td> 0.5518257</td><td> -1       </td><td>0.6841727 </td><td> -7.550882</td><td>  7.550882</td><td>1438.691  </td><td>1482.651  </td></tr>\n",
       "</tbody>\n",
       "</table>\n"
      ],
      "text/latex": [
       "\\begin{tabular}{r|lllllllllllllllllllllllll}\n",
       " X & schedule\\_date & schedule\\_season & home\\_team\\_id & away\\_team\\_id & home\\_score & away\\_score & team\\_favorite\\_id & spread\\_favorite & home\\_team\\_elo & ⋯ & home\\_result & away\\_result & home\\_forecast\\_delta & away\\_forecast\\_delta & winner\\_point\\_diff & mov\\_multiplier & home\\_elo\\_change & away\\_elo\\_change & home\\_elo\\_new & away\\_elo\\_new\\\\\n",
       "\\hline\n",
       "\t 1          & 2002-09-05 & 2002       & NYG        & SF         & 13         & 16         & SF         & -4.0       & 1485.669   & ⋯          & 0          & 1          & -0.4847889 &  0.4847889 &  -3        & 1.3402548  & -12.994814 &  12.994814 & 1472.674   & 1574.237  \\\\\n",
       "\t 2          & 2002-09-08 & 2002       & BUF        & NYJ        & 31         & 37         & NYJ        & -3.0       & 1413.251   & ⋯          & 0          & 1          & -0.4184365 &  0.4184365 &  -6        & 1.8435218  & -15.427938 &  15.427938 & 1397.823   & 1550.866  \\\\\n",
       "\t 3          & 2002-09-08 & 2002       & CAR        & BAL        & 10         &  7         & PICK       &  0.0       & 1370.952   & ⋯          & 1          & 0          &  0.6875234 & -0.6875234 &   3        & 1.5264411  &  20.989279 & -20.989279 & 1391.941   & 1551.951  \\\\\n",
       "\t 4          & 2002-09-08 & 2002       & CHI        & MIN        & 27         & 23         & CHI        & -4.5       & 1565.787   & ⋯          & 1          & 0          &  0.2643206 & -0.2643206 &   4        & 1.5309271  &   8.093113 &  -8.093113 & 1573.880   & 1444.871  \\\\\n",
       "\t 5          & 2002-09-08 & 2002       & CIN        & LAC        &  6         & 34         & CIN        & -3.0       & 1417.743   & ⋯          & 0          & 1          & -0.6061490 &  0.6061490 & -28        & 3.3825156  & -41.006171 &  41.006171 & 1376.737   & 1448.850  \\\\\n",
       "\t 6          & 2002-09-08 & 2002       & CLE        & KC         & 39         & 40         & CLE        & -2.0       & 1446.242   & ⋯          & 0          & 1          & -0.5518257 &  0.5518257 &  -1        & 0.6841727  &  -7.550882 &   7.550882 & 1438.691   & 1482.651  \\\\\n",
       "\\end{tabular}\n"
      ],
      "text/markdown": [
       "\n",
       "| X | schedule_date | schedule_season | home_team_id | away_team_id | home_score | away_score | team_favorite_id | spread_favorite | home_team_elo | ⋯ | home_result | away_result | home_forecast_delta | away_forecast_delta | winner_point_diff | mov_multiplier | home_elo_change | away_elo_change | home_elo_new | away_elo_new |\n",
       "|---|---|---|---|---|---|---|---|---|---|---|---|---|---|---|---|---|---|---|---|---|\n",
       "| 1          | 2002-09-05 | 2002       | NYG        | SF         | 13         | 16         | SF         | -4.0       | 1485.669   | ⋯          | 0          | 1          | -0.4847889 |  0.4847889 |  -3        | 1.3402548  | -12.994814 |  12.994814 | 1472.674   | 1574.237   |\n",
       "| 2          | 2002-09-08 | 2002       | BUF        | NYJ        | 31         | 37         | NYJ        | -3.0       | 1413.251   | ⋯          | 0          | 1          | -0.4184365 |  0.4184365 |  -6        | 1.8435218  | -15.427938 |  15.427938 | 1397.823   | 1550.866   |\n",
       "| 3          | 2002-09-08 | 2002       | CAR        | BAL        | 10         |  7         | PICK       |  0.0       | 1370.952   | ⋯          | 1          | 0          |  0.6875234 | -0.6875234 |   3        | 1.5264411  |  20.989279 | -20.989279 | 1391.941   | 1551.951   |\n",
       "| 4          | 2002-09-08 | 2002       | CHI        | MIN        | 27         | 23         | CHI        | -4.5       | 1565.787   | ⋯          | 1          | 0          |  0.2643206 | -0.2643206 |   4        | 1.5309271  |   8.093113 |  -8.093113 | 1573.880   | 1444.871   |\n",
       "| 5          | 2002-09-08 | 2002       | CIN        | LAC        |  6         | 34         | CIN        | -3.0       | 1417.743   | ⋯          | 0          | 1          | -0.6061490 |  0.6061490 | -28        | 3.3825156  | -41.006171 |  41.006171 | 1376.737   | 1448.850   |\n",
       "| 6          | 2002-09-08 | 2002       | CLE        | KC         | 39         | 40         | CLE        | -2.0       | 1446.242   | ⋯          | 0          | 1          | -0.5518257 |  0.5518257 |  -1        | 0.6841727  |  -7.550882 |   7.550882 | 1438.691   | 1482.651   |\n",
       "\n"
      ],
      "text/plain": [
       "  X schedule_date schedule_season home_team_id away_team_id home_score\n",
       "1 1 2002-09-05    2002            NYG          SF           13        \n",
       "2 2 2002-09-08    2002            BUF          NYJ          31        \n",
       "3 3 2002-09-08    2002            CAR          BAL          10        \n",
       "4 4 2002-09-08    2002            CHI          MIN          27        \n",
       "5 5 2002-09-08    2002            CIN          LAC           6        \n",
       "6 6 2002-09-08    2002            CLE          KC           39        \n",
       "  away_score team_favorite_id spread_favorite home_team_elo ⋯ home_result\n",
       "1 16         SF               -4.0            1485.669      ⋯ 0          \n",
       "2 37         NYJ              -3.0            1413.251      ⋯ 0          \n",
       "3  7         PICK              0.0            1370.952      ⋯ 1          \n",
       "4 23         CHI              -4.5            1565.787      ⋯ 1          \n",
       "5 34         CIN              -3.0            1417.743      ⋯ 0          \n",
       "6 40         CLE              -2.0            1446.242      ⋯ 0          \n",
       "  away_result home_forecast_delta away_forecast_delta winner_point_diff\n",
       "1 1           -0.4847889           0.4847889           -3              \n",
       "2 1           -0.4184365           0.4184365           -6              \n",
       "3 0            0.6875234          -0.6875234            3              \n",
       "4 0            0.2643206          -0.2643206            4              \n",
       "5 1           -0.6061490           0.6061490          -28              \n",
       "6 1           -0.5518257           0.5518257           -1              \n",
       "  mov_multiplier home_elo_change away_elo_change home_elo_new away_elo_new\n",
       "1 1.3402548      -12.994814       12.994814      1472.674     1574.237    \n",
       "2 1.8435218      -15.427938       15.427938      1397.823     1550.866    \n",
       "3 1.5264411       20.989279      -20.989279      1391.941     1551.951    \n",
       "4 1.5309271        8.093113       -8.093113      1573.880     1444.871    \n",
       "5 3.3825156      -41.006171       41.006171      1376.737     1448.850    \n",
       "6 0.6841727       -7.550882        7.550882      1438.691     1482.651    "
      ]
     },
     "metadata": {},
     "output_type": "display_data"
    }
   ],
   "source": [
    "#calculate elo change only whenever it is not a tie\n",
    "#when it is a tie, elo's stay the same\n",
    "df$home_elo_new <- ifelse(df$home_result==1,df$home_team_elo+df$home_elo_change,\n",
    "                         ifelse(df$home_result==0,df$home_team_elo+df$home_elo_change,df$home_team_elo))\n",
    "\n",
    "df$away_elo_new <- ifelse(df$away_result==1,df$away_team_elo+df$away_elo_change,\n",
    "                         ifelse(df$away_result==0,df$away_team_elo+df$away_elo_change,df$away_team_elo))\n",
    "\n",
    "head(df)"
   ]
  },
  {
   "cell_type": "markdown",
   "metadata": {},
   "source": [
    "### Elo Spread\n",
    "\n",
    "Another feature of the FiveThirtyEight Elo ratings and one of the reason that having the Vegas betting data is important is that we can calculate an comparison to the spread using Elo. The formula for this is simply the elo_diff divided by 25. This is not important for our Elo but could be useful in our model. Since the vegas spread is always in terms of the point differential for the home team, we will only calculate the elo_spred for the home team as well."
   ]
  },
  {
   "cell_type": "code",
   "execution_count": 11,
   "metadata": {},
   "outputs": [
    {
     "data": {
      "text/html": [
       "<table>\n",
       "<thead><tr><th scope=col>X</th><th scope=col>schedule_date</th><th scope=col>schedule_season</th><th scope=col>home_team_id</th><th scope=col>away_team_id</th><th scope=col>home_score</th><th scope=col>away_score</th><th scope=col>team_favorite_id</th><th scope=col>vegas_spread</th><th scope=col>home_team_elo</th><th scope=col>⋯</th><th scope=col>away_result</th><th scope=col>home_forecast_delta</th><th scope=col>away_forecast_delta</th><th scope=col>winner_point_diff</th><th scope=col>mov_multiplier</th><th scope=col>home_elo_change</th><th scope=col>away_elo_change</th><th scope=col>home_elo_new</th><th scope=col>away_elo_new</th><th scope=col>elo_spread</th></tr></thead>\n",
       "<tbody>\n",
       "\t<tr><td>1         </td><td>2002-09-05</td><td>2002      </td><td>NYG       </td><td>SF        </td><td>13        </td><td>16        </td><td>SF        </td><td>-4.0      </td><td>1485.669  </td><td>⋯         </td><td>1         </td><td>-0.4847889</td><td> 0.4847889</td><td> -3       </td><td>1.3402548 </td><td>-12.994814</td><td> 12.994814</td><td>1472.674  </td><td>1574.237  </td><td>-0.42292  </td></tr>\n",
       "\t<tr><td>2         </td><td>2002-09-08</td><td>2002      </td><td>BUF       </td><td>NYJ       </td><td>31        </td><td>37        </td><td>NYJ       </td><td>-3.0      </td><td>1413.251  </td><td>⋯         </td><td>1         </td><td>-0.4184365</td><td> 0.4184365</td><td> -6       </td><td>1.8435218 </td><td>-15.427938</td><td> 15.427938</td><td>1397.823  </td><td>1550.866  </td><td>-2.28748  </td></tr>\n",
       "\t<tr><td>3         </td><td>2002-09-08</td><td>2002      </td><td>CAR       </td><td>BAL       </td><td>10        </td><td> 7        </td><td>PICK      </td><td> 0.0      </td><td>1370.952  </td><td>⋯         </td><td>0         </td><td> 0.6875234</td><td>-0.6875234</td><td>  3       </td><td>1.5264411 </td><td> 20.989279</td><td>-20.989279</td><td>1391.941  </td><td>1551.951  </td><td>-5.47952  </td></tr>\n",
       "\t<tr><td>4         </td><td>2002-09-08</td><td>2002      </td><td>CHI       </td><td>MIN       </td><td>27        </td><td>23        </td><td>CHI       </td><td>-4.5      </td><td>1565.787  </td><td>⋯         </td><td>0         </td><td> 0.2643206</td><td>-0.2643206</td><td>  4       </td><td>1.5309271 </td><td>  8.093113</td><td> -8.093113</td><td>1573.880  </td><td>1444.871  </td><td> 7.11292  </td></tr>\n",
       "\t<tr><td>5         </td><td>2002-09-08</td><td>2002      </td><td>CIN       </td><td>LAC       </td><td> 6        </td><td>34        </td><td>CIN       </td><td>-3.0      </td><td>1417.743  </td><td>⋯         </td><td>1         </td><td>-0.6061490</td><td> 0.6061490</td><td>-28       </td><td>3.3825156 </td><td>-41.006171</td><td> 41.006171</td><td>1376.737  </td><td>1448.850  </td><td> 2.99596  </td></tr>\n",
       "\t<tr><td>6         </td><td>2002-09-08</td><td>2002      </td><td>CLE       </td><td>KC        </td><td>39        </td><td>40        </td><td>CLE       </td><td>-2.0      </td><td>1446.242  </td><td>⋯         </td><td>1         </td><td>-0.5518257</td><td> 0.5518257</td><td> -1       </td><td>0.6841727 </td><td> -7.550882</td><td>  7.550882</td><td>1438.691  </td><td>1482.651  </td><td> 1.44568  </td></tr>\n",
       "</tbody>\n",
       "</table>\n"
      ],
      "text/latex": [
       "\\begin{tabular}{r|llllllllllllllllllllllllll}\n",
       " X & schedule\\_date & schedule\\_season & home\\_team\\_id & away\\_team\\_id & home\\_score & away\\_score & team\\_favorite\\_id & vegas\\_spread & home\\_team\\_elo & ⋯ & away\\_result & home\\_forecast\\_delta & away\\_forecast\\_delta & winner\\_point\\_diff & mov\\_multiplier & home\\_elo\\_change & away\\_elo\\_change & home\\_elo\\_new & away\\_elo\\_new & elo\\_spread\\\\\n",
       "\\hline\n",
       "\t 1          & 2002-09-05 & 2002       & NYG        & SF         & 13         & 16         & SF         & -4.0       & 1485.669   & ⋯          & 1          & -0.4847889 &  0.4847889 &  -3        & 1.3402548  & -12.994814 &  12.994814 & 1472.674   & 1574.237   & -0.42292  \\\\\n",
       "\t 2          & 2002-09-08 & 2002       & BUF        & NYJ        & 31         & 37         & NYJ        & -3.0       & 1413.251   & ⋯          & 1          & -0.4184365 &  0.4184365 &  -6        & 1.8435218  & -15.427938 &  15.427938 & 1397.823   & 1550.866   & -2.28748  \\\\\n",
       "\t 3          & 2002-09-08 & 2002       & CAR        & BAL        & 10         &  7         & PICK       &  0.0       & 1370.952   & ⋯          & 0          &  0.6875234 & -0.6875234 &   3        & 1.5264411  &  20.989279 & -20.989279 & 1391.941   & 1551.951   & -5.47952  \\\\\n",
       "\t 4          & 2002-09-08 & 2002       & CHI        & MIN        & 27         & 23         & CHI        & -4.5       & 1565.787   & ⋯          & 0          &  0.2643206 & -0.2643206 &   4        & 1.5309271  &   8.093113 &  -8.093113 & 1573.880   & 1444.871   &  7.11292  \\\\\n",
       "\t 5          & 2002-09-08 & 2002       & CIN        & LAC        &  6         & 34         & CIN        & -3.0       & 1417.743   & ⋯          & 1          & -0.6061490 &  0.6061490 & -28        & 3.3825156  & -41.006171 &  41.006171 & 1376.737   & 1448.850   &  2.99596  \\\\\n",
       "\t 6          & 2002-09-08 & 2002       & CLE        & KC         & 39         & 40         & CLE        & -2.0       & 1446.242   & ⋯          & 1          & -0.5518257 &  0.5518257 &  -1        & 0.6841727  &  -7.550882 &   7.550882 & 1438.691   & 1482.651   &  1.44568  \\\\\n",
       "\\end{tabular}\n"
      ],
      "text/markdown": [
       "\n",
       "| X | schedule_date | schedule_season | home_team_id | away_team_id | home_score | away_score | team_favorite_id | vegas_spread | home_team_elo | ⋯ | away_result | home_forecast_delta | away_forecast_delta | winner_point_diff | mov_multiplier | home_elo_change | away_elo_change | home_elo_new | away_elo_new | elo_spread |\n",
       "|---|---|---|---|---|---|---|---|---|---|---|---|---|---|---|---|---|---|---|---|---|\n",
       "| 1          | 2002-09-05 | 2002       | NYG        | SF         | 13         | 16         | SF         | -4.0       | 1485.669   | ⋯          | 1          | -0.4847889 |  0.4847889 |  -3        | 1.3402548  | -12.994814 |  12.994814 | 1472.674   | 1574.237   | -0.42292   |\n",
       "| 2          | 2002-09-08 | 2002       | BUF        | NYJ        | 31         | 37         | NYJ        | -3.0       | 1413.251   | ⋯          | 1          | -0.4184365 |  0.4184365 |  -6        | 1.8435218  | -15.427938 |  15.427938 | 1397.823   | 1550.866   | -2.28748   |\n",
       "| 3          | 2002-09-08 | 2002       | CAR        | BAL        | 10         |  7         | PICK       |  0.0       | 1370.952   | ⋯          | 0          |  0.6875234 | -0.6875234 |   3        | 1.5264411  |  20.989279 | -20.989279 | 1391.941   | 1551.951   | -5.47952   |\n",
       "| 4          | 2002-09-08 | 2002       | CHI        | MIN        | 27         | 23         | CHI        | -4.5       | 1565.787   | ⋯          | 0          |  0.2643206 | -0.2643206 |   4        | 1.5309271  |   8.093113 |  -8.093113 | 1573.880   | 1444.871   |  7.11292   |\n",
       "| 5          | 2002-09-08 | 2002       | CIN        | LAC        |  6         | 34         | CIN        | -3.0       | 1417.743   | ⋯          | 1          | -0.6061490 |  0.6061490 | -28        | 3.3825156  | -41.006171 |  41.006171 | 1376.737   | 1448.850   |  2.99596   |\n",
       "| 6          | 2002-09-08 | 2002       | CLE        | KC         | 39         | 40         | CLE        | -2.0       | 1446.242   | ⋯          | 1          | -0.5518257 |  0.5518257 |  -1        | 0.6841727  |  -7.550882 |   7.550882 | 1438.691   | 1482.651   |  1.44568   |\n",
       "\n"
      ],
      "text/plain": [
       "  X schedule_date schedule_season home_team_id away_team_id home_score\n",
       "1 1 2002-09-05    2002            NYG          SF           13        \n",
       "2 2 2002-09-08    2002            BUF          NYJ          31        \n",
       "3 3 2002-09-08    2002            CAR          BAL          10        \n",
       "4 4 2002-09-08    2002            CHI          MIN          27        \n",
       "5 5 2002-09-08    2002            CIN          LAC           6        \n",
       "6 6 2002-09-08    2002            CLE          KC           39        \n",
       "  away_score team_favorite_id vegas_spread home_team_elo ⋯ away_result\n",
       "1 16         SF               -4.0         1485.669      ⋯ 1          \n",
       "2 37         NYJ              -3.0         1413.251      ⋯ 1          \n",
       "3  7         PICK              0.0         1370.952      ⋯ 0          \n",
       "4 23         CHI              -4.5         1565.787      ⋯ 0          \n",
       "5 34         CIN              -3.0         1417.743      ⋯ 1          \n",
       "6 40         CLE              -2.0         1446.242      ⋯ 1          \n",
       "  home_forecast_delta away_forecast_delta winner_point_diff mov_multiplier\n",
       "1 -0.4847889           0.4847889           -3               1.3402548     \n",
       "2 -0.4184365           0.4184365           -6               1.8435218     \n",
       "3  0.6875234          -0.6875234            3               1.5264411     \n",
       "4  0.2643206          -0.2643206            4               1.5309271     \n",
       "5 -0.6061490           0.6061490          -28               3.3825156     \n",
       "6 -0.5518257           0.5518257           -1               0.6841727     \n",
       "  home_elo_change away_elo_change home_elo_new away_elo_new elo_spread\n",
       "1 -12.994814       12.994814      1472.674     1574.237     -0.42292  \n",
       "2 -15.427938       15.427938      1397.823     1550.866     -2.28748  \n",
       "3  20.989279      -20.989279      1391.941     1551.951     -5.47952  \n",
       "4   8.093113       -8.093113      1573.880     1444.871      7.11292  \n",
       "5 -41.006171       41.006171      1376.737     1448.850      2.99596  \n",
       "6  -7.550882        7.550882      1438.691     1482.651      1.44568  "
      ]
     },
     "metadata": {},
     "output_type": "display_data"
    }
   ],
   "source": [
    "#rename spread_favorite to vegas_spread\n",
    "names(df)[names(df) == \"spread_favorite\"] <- \"vegas_spread\"\n",
    "df$elo_spread <- df$home_elo_diff / 25\n",
    "head(df)"
   ]
  },
  {
   "cell_type": "markdown",
   "metadata": {},
   "source": [
    "### Calculating Vegas Probabilities\n",
    "\n",
    "Similar to how we can generate a probability using Elo rating, we can do the same with our Vegas spread. Above we converted our home_elo_diff into a spread, we'll do this process in reverse in order to calculate the probability of the Vegas spread, replacing elo_spread with vegas_spread.\n",
    "\n",
    "Alternatively, it is was established that the closing spread (spread_favorite, in our data) is very correlated with a team's win probability. A formula was provided in the following article which provides us a way to directly convert the Vegas spread into a win probability. We'll do that in the cell below as well.\n",
    "\n",
    "Source: https://medium.com/the-intelligent-sports-wagerer/what-point-spreads-can-teach-you-about-implied-win-probabilities-a8bb3623d2c5"
   ]
  },
  {
   "cell_type": "code",
   "execution_count": 12,
   "metadata": {},
   "outputs": [
    {
     "data": {
      "text/html": [
       "<table>\n",
       "<thead><tr><th scope=col>X</th><th scope=col>schedule_date</th><th scope=col>schedule_season</th><th scope=col>home_team_id</th><th scope=col>away_team_id</th><th scope=col>home_score</th><th scope=col>away_score</th><th scope=col>team_favorite_id</th><th scope=col>vegas_spread</th><th scope=col>home_team_elo</th><th scope=col>⋯</th><th scope=col>away_forecast_delta</th><th scope=col>winner_point_diff</th><th scope=col>mov_multiplier</th><th scope=col>home_elo_change</th><th scope=col>away_elo_change</th><th scope=col>home_elo_new</th><th scope=col>away_elo_new</th><th scope=col>elo_spread</th><th scope=col>vegas_probA</th><th scope=col>vegas_probB</th></tr></thead>\n",
       "<tbody>\n",
       "\t<tr><td>1         </td><td>2002-09-05</td><td>2002      </td><td>NYG       </td><td>SF        </td><td>13        </td><td>16        </td><td>SF        </td><td> 4.0      </td><td>1485.669  </td><td>⋯         </td><td> 0.4847889</td><td> -3       </td><td>1.3402548 </td><td>-12.994814</td><td> 12.994814</td><td>1472.674  </td><td>1574.237  </td><td>-0.42292  </td><td>0.6400650 </td><td>0.380     </td></tr>\n",
       "\t<tr><td>2         </td><td>2002-09-08</td><td>2002      </td><td>BUF       </td><td>NYJ       </td><td>31        </td><td>37        </td><td>NYJ       </td><td> 3.0      </td><td>1413.251  </td><td>⋯         </td><td> 0.4184365</td><td> -6       </td><td>1.8435218 </td><td>-15.427938</td><td> 15.427938</td><td>1397.823  </td><td>1550.866  </td><td>-2.28748  </td><td>0.6062878 </td><td>0.410     </td></tr>\n",
       "\t<tr><td>3         </td><td>2002-09-08</td><td>2002      </td><td>CAR       </td><td>BAL       </td><td>10        </td><td> 7        </td><td>PICK      </td><td> 0.0      </td><td>1370.952  </td><td>⋯         </td><td>-0.6875234</td><td>  3       </td><td>1.5264411 </td><td> 20.989279</td><td>-20.989279</td><td>1391.941  </td><td>1551.951  </td><td>-5.47952  </td><td>0.5000000 </td><td>0.500     </td></tr>\n",
       "\t<tr><td>4         </td><td>2002-09-08</td><td>2002      </td><td>CHI       </td><td>MIN       </td><td>27        </td><td>23        </td><td>CHI       </td><td>-4.5      </td><td>1565.787  </td><td>⋯         </td><td>-0.2643206</td><td>  4       </td><td>1.5309271 </td><td>  8.093113</td><td> -8.093113</td><td>1573.880  </td><td>1444.871  </td><td> 7.11292  </td><td>0.3435301 </td><td>0.635     </td></tr>\n",
       "\t<tr><td>5         </td><td>2002-09-08</td><td>2002      </td><td>CIN       </td><td>LAC       </td><td> 6        </td><td>34        </td><td>CIN       </td><td>-3.0      </td><td>1417.743  </td><td>⋯         </td><td> 0.6061490</td><td>-28       </td><td>3.3825156 </td><td>-41.006171</td><td> 41.006171</td><td>1376.737  </td><td>1448.850  </td><td> 2.99596  </td><td>0.3937122 </td><td>0.590     </td></tr>\n",
       "\t<tr><td>6         </td><td>2002-09-08</td><td>2002      </td><td>CLE       </td><td>KC        </td><td>39        </td><td>40        </td><td>CLE       </td><td>-2.0      </td><td>1446.242  </td><td>⋯         </td><td> 0.5518257</td><td> -1       </td><td>0.6841727 </td><td> -7.550882</td><td>  7.550882</td><td>1438.691  </td><td>1482.651  </td><td> 1.44568  </td><td>0.4285369 </td><td>0.560     </td></tr>\n",
       "</tbody>\n",
       "</table>\n"
      ],
      "text/latex": [
       "\\begin{tabular}{r|llllllllllllllllllllllllllll}\n",
       " X & schedule\\_date & schedule\\_season & home\\_team\\_id & away\\_team\\_id & home\\_score & away\\_score & team\\_favorite\\_id & vegas\\_spread & home\\_team\\_elo & ⋯ & away\\_forecast\\_delta & winner\\_point\\_diff & mov\\_multiplier & home\\_elo\\_change & away\\_elo\\_change & home\\_elo\\_new & away\\_elo\\_new & elo\\_spread & vegas\\_probA & vegas\\_probB\\\\\n",
       "\\hline\n",
       "\t 1          & 2002-09-05 & 2002       & NYG        & SF         & 13         & 16         & SF         &  4.0       & 1485.669   & ⋯          &  0.4847889 &  -3        & 1.3402548  & -12.994814 &  12.994814 & 1472.674   & 1574.237   & -0.42292   & 0.6400650  & 0.380     \\\\\n",
       "\t 2          & 2002-09-08 & 2002       & BUF        & NYJ        & 31         & 37         & NYJ        &  3.0       & 1413.251   & ⋯          &  0.4184365 &  -6        & 1.8435218  & -15.427938 &  15.427938 & 1397.823   & 1550.866   & -2.28748   & 0.6062878  & 0.410     \\\\\n",
       "\t 3          & 2002-09-08 & 2002       & CAR        & BAL        & 10         &  7         & PICK       &  0.0       & 1370.952   & ⋯          & -0.6875234 &   3        & 1.5264411  &  20.989279 & -20.989279 & 1391.941   & 1551.951   & -5.47952   & 0.5000000  & 0.500     \\\\\n",
       "\t 4          & 2002-09-08 & 2002       & CHI        & MIN        & 27         & 23         & CHI        & -4.5       & 1565.787   & ⋯          & -0.2643206 &   4        & 1.5309271  &   8.093113 &  -8.093113 & 1573.880   & 1444.871   &  7.11292   & 0.3435301  & 0.635     \\\\\n",
       "\t 5          & 2002-09-08 & 2002       & CIN        & LAC        &  6         & 34         & CIN        & -3.0       & 1417.743   & ⋯          &  0.6061490 & -28        & 3.3825156  & -41.006171 &  41.006171 & 1376.737   & 1448.850   &  2.99596   & 0.3937122  & 0.590     \\\\\n",
       "\t 6          & 2002-09-08 & 2002       & CLE        & KC         & 39         & 40         & CLE        & -2.0       & 1446.242   & ⋯          &  0.5518257 &  -1        & 0.6841727  &  -7.550882 &   7.550882 & 1438.691   & 1482.651   &  1.44568   & 0.4285369  & 0.560     \\\\\n",
       "\\end{tabular}\n"
      ],
      "text/markdown": [
       "\n",
       "| X | schedule_date | schedule_season | home_team_id | away_team_id | home_score | away_score | team_favorite_id | vegas_spread | home_team_elo | ⋯ | away_forecast_delta | winner_point_diff | mov_multiplier | home_elo_change | away_elo_change | home_elo_new | away_elo_new | elo_spread | vegas_probA | vegas_probB |\n",
       "|---|---|---|---|---|---|---|---|---|---|---|---|---|---|---|---|---|---|---|---|---|\n",
       "| 1          | 2002-09-05 | 2002       | NYG        | SF         | 13         | 16         | SF         |  4.0       | 1485.669   | ⋯          |  0.4847889 |  -3        | 1.3402548  | -12.994814 |  12.994814 | 1472.674   | 1574.237   | -0.42292   | 0.6400650  | 0.380      |\n",
       "| 2          | 2002-09-08 | 2002       | BUF        | NYJ        | 31         | 37         | NYJ        |  3.0       | 1413.251   | ⋯          |  0.4184365 |  -6        | 1.8435218  | -15.427938 |  15.427938 | 1397.823   | 1550.866   | -2.28748   | 0.6062878  | 0.410      |\n",
       "| 3          | 2002-09-08 | 2002       | CAR        | BAL        | 10         |  7         | PICK       |  0.0       | 1370.952   | ⋯          | -0.6875234 |   3        | 1.5264411  |  20.989279 | -20.989279 | 1391.941   | 1551.951   | -5.47952   | 0.5000000  | 0.500      |\n",
       "| 4          | 2002-09-08 | 2002       | CHI        | MIN        | 27         | 23         | CHI        | -4.5       | 1565.787   | ⋯          | -0.2643206 |   4        | 1.5309271  |   8.093113 |  -8.093113 | 1573.880   | 1444.871   |  7.11292   | 0.3435301  | 0.635      |\n",
       "| 5          | 2002-09-08 | 2002       | CIN        | LAC        |  6         | 34         | CIN        | -3.0       | 1417.743   | ⋯          |  0.6061490 | -28        | 3.3825156  | -41.006171 |  41.006171 | 1376.737   | 1448.850   |  2.99596   | 0.3937122  | 0.590      |\n",
       "| 6          | 2002-09-08 | 2002       | CLE        | KC         | 39         | 40         | CLE        | -2.0       | 1446.242   | ⋯          |  0.5518257 |  -1        | 0.6841727  |  -7.550882 |   7.550882 | 1438.691   | 1482.651   |  1.44568   | 0.4285369  | 0.560      |\n",
       "\n"
      ],
      "text/plain": [
       "  X schedule_date schedule_season home_team_id away_team_id home_score\n",
       "1 1 2002-09-05    2002            NYG          SF           13        \n",
       "2 2 2002-09-08    2002            BUF          NYJ          31        \n",
       "3 3 2002-09-08    2002            CAR          BAL          10        \n",
       "4 4 2002-09-08    2002            CHI          MIN          27        \n",
       "5 5 2002-09-08    2002            CIN          LAC           6        \n",
       "6 6 2002-09-08    2002            CLE          KC           39        \n",
       "  away_score team_favorite_id vegas_spread home_team_elo ⋯ away_forecast_delta\n",
       "1 16         SF                4.0         1485.669      ⋯  0.4847889         \n",
       "2 37         NYJ               3.0         1413.251      ⋯  0.4184365         \n",
       "3  7         PICK              0.0         1370.952      ⋯ -0.6875234         \n",
       "4 23         CHI              -4.5         1565.787      ⋯ -0.2643206         \n",
       "5 34         CIN              -3.0         1417.743      ⋯  0.6061490         \n",
       "6 40         CLE              -2.0         1446.242      ⋯  0.5518257         \n",
       "  winner_point_diff mov_multiplier home_elo_change away_elo_change home_elo_new\n",
       "1  -3               1.3402548      -12.994814       12.994814      1472.674    \n",
       "2  -6               1.8435218      -15.427938       15.427938      1397.823    \n",
       "3   3               1.5264411       20.989279      -20.989279      1391.941    \n",
       "4   4               1.5309271        8.093113       -8.093113      1573.880    \n",
       "5 -28               3.3825156      -41.006171       41.006171      1376.737    \n",
       "6  -1               0.6841727       -7.550882        7.550882      1438.691    \n",
       "  away_elo_new elo_spread vegas_probA vegas_probB\n",
       "1 1574.237     -0.42292   0.6400650   0.380      \n",
       "2 1550.866     -2.28748   0.6062878   0.410      \n",
       "3 1551.951     -5.47952   0.5000000   0.500      \n",
       "4 1444.871      7.11292   0.3435301   0.635      \n",
       "5 1448.850      2.99596   0.3937122   0.590      \n",
       "6 1482.651      1.44568   0.4285369   0.560      "
      ]
     },
     "metadata": {},
     "output_type": "display_data"
    }
   ],
   "source": [
    "#convert away team spread favorites to positive spreads\n",
    "df$vegas_spread <- ifelse(df$away_team_id == df$team_favorite_id,\n",
    "                         df$vegas_spread*-1,\n",
    "                         df$vegas_spread)\n",
    "\n",
    "#calculate vegas spread using method 1\n",
    "df$vegas_probA <- 1 / (10^((-25*df$vegas_spread)/400) + 1)\n",
    "\n",
    "#calculate vegas probability using formula from medium article\n",
    "df$vegas_probB <- ifelse(((-0.03*df$vegas_spread) + 0.5) < 0,0,\n",
    "                         ifelse(((-0.03*df$vegas_spread) + 0.5)>1,1,\n",
    "                                ((-0.03*df$vegas_spread) + 0.5)))\n",
    "\n",
    "head(df)"
   ]
  },
  {
   "cell_type": "markdown",
   "metadata": {},
   "source": [
    "### Our Predictions & Brier Scores\n",
    "\n",
    "To generate our probabilities, we combine our vegas and home elo probabilities to get an average. We'll use this average as our predictor for now while we work to develop a logistic regression model or a decision tree model to produce a probability for us. From here, we can evaluate our our predictions, the Elo preditions, and the Vegas predictions using what is known as the Brier score. The Brier score is used by FiveThirtyEight during their game to score participants.\n",
    "\n",
    "The Brier Score is defined as the probability of a forecast minus the actual outcome of the event (codified to 1 for a positive outcome or 0 for a negative one) squared and then divided by the number of forecasting instances. It is the same as the mean squared error of the forecast. The formula is:\n",
    "\n",
    "<img src=\"../Images/BrierScore.PNG\\\">\n",
    "\n",
    "The way FiveThirtyEight's scoring works is that they multiply the Brier Score by 100 and then subratct the result from 25. This gives us a way to evaluate each of the different methods of prediction on a fairly human readable scale.\n",
    "\n",
    "Brier Score Source: https://en.wikipedia.org/wiki/Brier_score\n",
    "Scoring Source: https://fivethirtyeight.com/features/how-to-play-our-nfl-predictions-game/"
   ]
  },
  {
   "cell_type": "code",
   "execution_count": 13,
   "metadata": {},
   "outputs": [
    {
     "name": "stdout",
     "output_type": "stream",
     "text": [
      "'data.frame':\t3978 obs. of  28 variables:\n",
      " $ X                  : int  1 2 3 4 5 6 7 8 9 10 ...\n",
      " $ schedule_date      : chr  \"2002-09-05\" \"2002-09-08\" \"2002-09-08\" \"2002-09-08\" ...\n",
      " $ schedule_season    : int  2002 2002 2002 2002 2002 2002 2002 2002 2002 2002 ...\n",
      " $ home_team_id       : chr  \"NYG\" \"BUF\" \"CAR\" \"CHI\" ...\n",
      " $ away_team_id       : chr  \"SF\" \"NYJ\" \"BAL\" \"MIN\" ...\n",
      " $ home_score         : int  13 31 10 27 6 39 23 37 19 25 ...\n",
      " $ away_score         : int  16 37 7 23 34 40 16 34 10 28 ...\n",
      " $ team_favorite_id   : chr  \"SF\" \"NYJ\" \"PICK\" \"CHI\" ...\n",
      " $ vegas_spread       : num  4 3 0 -4.5 -3 -2 3 -7 8.5 3.5 ...\n",
      " $ home_team_elo      : num  1486 1413 1371 1566 1418 ...\n",
      " $ away_team_elo      : num  1561 1535 1573 1453 1408 ...\n",
      " $ home_elo_diff      : num  -10.6 -57.2 -137 177.8 74.9 ...\n",
      " $ away_elo_diff      : num  10.6 57.2 137 -177.8 -74.9 ...\n",
      " $ home_win_prob      : num  0.485 0.418 0.312 0.736 0.606 ...\n",
      " $ away_win_prob      : num  0.515 0.582 0.688 0.264 0.394 ...\n",
      " $ home_result        : num  0 0 1 1 0 0 1 1 1 0 ...\n",
      " $ away_result        : num  1 1 0 0 1 1 0 0 0 1 ...\n",
      " $ home_forecast_delta: num  -0.485 -0.418 0.688 0.264 -0.606 ...\n",
      " $ away_forecast_delta: num  0.485 0.418 -0.688 -0.264 0.606 ...\n",
      " $ winner_point_diff  : int  -3 -6 3 4 -28 -1 7 3 9 -3 ...\n",
      " $ mov_multiplier     : num  1.34 1.84 1.53 1.53 3.38 ...\n",
      " $ home_elo_change    : num  -12.99 -15.43 20.99 8.09 -41.01 ...\n",
      " $ away_elo_change    : num  12.99 15.43 -20.99 -8.09 41.01 ...\n",
      " $ home_elo_new       : num  1473 1398 1392 1574 1377 ...\n",
      " $ away_elo_new       : num  1574 1551 1552 1445 1449 ...\n",
      " $ elo_spread         : num  -0.423 -2.287 -5.48 7.113 2.996 ...\n",
      " $ vegas_probA        : num  0.64 0.606 0.5 0.344 0.394 ...\n",
      " $ vegas_probB        : num  0.38 0.41 0.5 0.635 0.59 0.56 0.41 0.71 0.245 0.395 ...\n"
     ]
    }
   ],
   "source": [
    "str(df)"
   ]
  },
  {
   "cell_type": "code",
   "execution_count": 14,
   "metadata": {},
   "outputs": [
    {
     "data": {
      "text/html": [
       "<table>\n",
       "<thead><tr><th scope=col>X</th><th scope=col>schedule_date</th><th scope=col>schedule_season</th><th scope=col>home_team_id</th><th scope=col>away_team_id</th><th scope=col>home_score</th><th scope=col>away_score</th><th scope=col>team_favorite_id</th><th scope=col>vegas_spread</th><th scope=col>home_team_elo</th><th scope=col>⋯</th><th scope=col>group8A_brier</th><th scope=col>group8B_brier</th><th scope=col>vegasA_brier</th><th scope=col>vegasB_brier</th><th scope=col>five38_brier</th><th scope=col>group8A_points</th><th scope=col>group8B_points</th><th scope=col>vegasA_points</th><th scope=col>vegasB_points</th><th scope=col>five38_points</th></tr></thead>\n",
       "<tbody>\n",
       "\t<tr><td>1            </td><td>2002-09-05   </td><td>2002         </td><td>NYG          </td><td>SF           </td><td>13           </td><td>16           </td><td>SF           </td><td> 4.0         </td><td>1485.669     </td><td>⋯            </td><td>0.3163241    </td><td>0.18696497   </td><td>0.4096832    </td><td>0.144400     </td><td>0.2350203    </td><td> -6.632408812</td><td>  6.303503   </td><td>-15.968320   </td><td>10.5600      </td><td>  1.497970   </td></tr>\n",
       "\t<tr><td>2            </td><td>2002-09-08   </td><td>2002         </td><td>BUF          </td><td>NYJ          </td><td>31           </td><td>37           </td><td>NYJ          </td><td> 3.0         </td><td>1413.251     </td><td>⋯            </td><td>0.2625150    </td><td>0.17157678   </td><td>0.3675849    </td><td>0.168100     </td><td>0.1750891    </td><td> -1.251500813</td><td>  7.842322   </td><td>-11.758493   </td><td> 8.1900      </td><td>  7.491086   </td></tr>\n",
       "\t<tr><td>3            </td><td>2002-09-08   </td><td>2002         </td><td>CAR          </td><td>BAL          </td><td>10           </td><td> 7           </td><td>PICK         </td><td> 0.0         </td><td>1370.952     </td><td>⋯            </td><td>0.3525530    </td><td>0.35255296   </td><td>0.2500000    </td><td>0.250000     </td><td>0.4726884    </td><td>-10.255296121</td><td>-10.255296   </td><td>  0.000000   </td><td> 0.0000      </td><td>-22.268844   </td></tr>\n",
       "\t<tr><td>4            </td><td>2002-09-08   </td><td>2002         </td><td>CHI          </td><td>MIN          </td><td>27           </td><td>23           </td><td>CHI          </td><td>-4.5         </td><td>1565.787     </td><td>⋯            </td><td>0.2119638    </td><td>0.09901112   </td><td>0.4309527    </td><td>0.133225     </td><td>0.0698654    </td><td>  3.803620176</td><td> 15.098888   </td><td>-18.095271   </td><td>11.6775      </td><td> 18.013460   </td></tr>\n",
       "\t<tr><td>5            </td><td>2002-09-08   </td><td>2002         </td><td>CIN          </td><td>LAC          </td><td> 6           </td><td>34           </td><td>CIN          </td><td>-3.0         </td><td>1417.743     </td><td>⋯            </td><td>0.2499306    </td><td>0.35769313   </td><td>0.1550093    </td><td>0.348100     </td><td>0.3674166    </td><td>  0.006939073</td><td>-10.769313   </td><td>  9.499072   </td><td>-9.8100      </td><td>-11.741665   </td></tr>\n",
       "\t<tr><td>6            </td><td>2002-09-08   </td><td>2002         </td><td>CLE          </td><td>KC           </td><td>39           </td><td>40           </td><td>CLE          </td><td>-2.0         </td><td>1446.242     </td><td>⋯            </td><td>0.2402777    </td><td>0.30903911   </td><td>0.1836439    </td><td>0.313600     </td><td>0.3045116    </td><td>  0.972229442</td><td> -5.903911   </td><td>  6.635614   </td><td>-6.3600      </td><td> -5.451162   </td></tr>\n",
       "</tbody>\n",
       "</table>\n"
      ],
      "text/latex": [
       "\\begin{tabular}{r|llllllllllllllllllllllllllllllllllllllllll}\n",
       " X & schedule\\_date & schedule\\_season & home\\_team\\_id & away\\_team\\_id & home\\_score & away\\_score & team\\_favorite\\_id & vegas\\_spread & home\\_team\\_elo & ⋯ & group8A\\_brier & group8B\\_brier & vegasA\\_brier & vegasB\\_brier & five38\\_brier & group8A\\_points & group8B\\_points & vegasA\\_points & vegasB\\_points & five38\\_points\\\\\n",
       "\\hline\n",
       "\t 1             & 2002-09-05    & 2002          & NYG           & SF            & 13            & 16            & SF            &  4.0          & 1485.669      & ⋯             & 0.3163241     & 0.18696497    & 0.4096832     & 0.144400      & 0.2350203     &  -6.632408812 &   6.303503    & -15.968320    & 10.5600       &   1.497970   \\\\\n",
       "\t 2             & 2002-09-08    & 2002          & BUF           & NYJ           & 31            & 37            & NYJ           &  3.0          & 1413.251      & ⋯             & 0.2625150     & 0.17157678    & 0.3675849     & 0.168100      & 0.1750891     &  -1.251500813 &   7.842322    & -11.758493    &  8.1900       &   7.491086   \\\\\n",
       "\t 3             & 2002-09-08    & 2002          & CAR           & BAL           & 10            &  7            & PICK          &  0.0          & 1370.952      & ⋯             & 0.3525530     & 0.35255296    & 0.2500000     & 0.250000      & 0.4726884     & -10.255296121 & -10.255296    &   0.000000    &  0.0000       & -22.268844   \\\\\n",
       "\t 4             & 2002-09-08    & 2002          & CHI           & MIN           & 27            & 23            & CHI           & -4.5          & 1565.787      & ⋯             & 0.2119638     & 0.09901112    & 0.4309527     & 0.133225      & 0.0698654     &   3.803620176 &  15.098888    & -18.095271    & 11.6775       &  18.013460   \\\\\n",
       "\t 5             & 2002-09-08    & 2002          & CIN           & LAC           &  6            & 34            & CIN           & -3.0          & 1417.743      & ⋯             & 0.2499306     & 0.35769313    & 0.1550093     & 0.348100      & 0.3674166     &   0.006939073 & -10.769313    &   9.499072    & -9.8100       & -11.741665   \\\\\n",
       "\t 6             & 2002-09-08    & 2002          & CLE           & KC            & 39            & 40            & CLE           & -2.0          & 1446.242      & ⋯             & 0.2402777     & 0.30903911    & 0.1836439     & 0.313600      & 0.3045116     &   0.972229442 &  -5.903911    &   6.635614    & -6.3600       &  -5.451162   \\\\\n",
       "\\end{tabular}\n"
      ],
      "text/markdown": [
       "\n",
       "| X | schedule_date | schedule_season | home_team_id | away_team_id | home_score | away_score | team_favorite_id | vegas_spread | home_team_elo | ⋯ | group8A_brier | group8B_brier | vegasA_brier | vegasB_brier | five38_brier | group8A_points | group8B_points | vegasA_points | vegasB_points | five38_points |\n",
       "|---|---|---|---|---|---|---|---|---|---|---|---|---|---|---|---|---|---|---|---|---|\n",
       "| 1             | 2002-09-05    | 2002          | NYG           | SF            | 13            | 16            | SF            |  4.0          | 1485.669      | ⋯             | 0.3163241     | 0.18696497    | 0.4096832     | 0.144400      | 0.2350203     |  -6.632408812 |   6.303503    | -15.968320    | 10.5600       |   1.497970    |\n",
       "| 2             | 2002-09-08    | 2002          | BUF           | NYJ           | 31            | 37            | NYJ           |  3.0          | 1413.251      | ⋯             | 0.2625150     | 0.17157678    | 0.3675849     | 0.168100      | 0.1750891     |  -1.251500813 |   7.842322    | -11.758493    |  8.1900       |   7.491086    |\n",
       "| 3             | 2002-09-08    | 2002          | CAR           | BAL           | 10            |  7            | PICK          |  0.0          | 1370.952      | ⋯             | 0.3525530     | 0.35255296    | 0.2500000     | 0.250000      | 0.4726884     | -10.255296121 | -10.255296    |   0.000000    |  0.0000       | -22.268844    |\n",
       "| 4             | 2002-09-08    | 2002          | CHI           | MIN           | 27            | 23            | CHI           | -4.5          | 1565.787      | ⋯             | 0.2119638     | 0.09901112    | 0.4309527     | 0.133225      | 0.0698654     |   3.803620176 |  15.098888    | -18.095271    | 11.6775       |  18.013460    |\n",
       "| 5             | 2002-09-08    | 2002          | CIN           | LAC           |  6            | 34            | CIN           | -3.0          | 1417.743      | ⋯             | 0.2499306     | 0.35769313    | 0.1550093     | 0.348100      | 0.3674166     |   0.006939073 | -10.769313    |   9.499072    | -9.8100       | -11.741665    |\n",
       "| 6             | 2002-09-08    | 2002          | CLE           | KC            | 39            | 40            | CLE           | -2.0          | 1446.242      | ⋯             | 0.2402777     | 0.30903911    | 0.1836439     | 0.313600      | 0.3045116     |   0.972229442 |  -5.903911    |   6.635614    | -6.3600       |  -5.451162    |\n",
       "\n"
      ],
      "text/plain": [
       "  X schedule_date schedule_season home_team_id away_team_id home_score\n",
       "1 1 2002-09-05    2002            NYG          SF           13        \n",
       "2 2 2002-09-08    2002            BUF          NYJ          31        \n",
       "3 3 2002-09-08    2002            CAR          BAL          10        \n",
       "4 4 2002-09-08    2002            CHI          MIN          27        \n",
       "5 5 2002-09-08    2002            CIN          LAC           6        \n",
       "6 6 2002-09-08    2002            CLE          KC           39        \n",
       "  away_score team_favorite_id vegas_spread home_team_elo ⋯ group8A_brier\n",
       "1 16         SF                4.0         1485.669      ⋯ 0.3163241    \n",
       "2 37         NYJ               3.0         1413.251      ⋯ 0.2625150    \n",
       "3  7         PICK              0.0         1370.952      ⋯ 0.3525530    \n",
       "4 23         CHI              -4.5         1565.787      ⋯ 0.2119638    \n",
       "5 34         CIN              -3.0         1417.743      ⋯ 0.2499306    \n",
       "6 40         CLE              -2.0         1446.242      ⋯ 0.2402777    \n",
       "  group8B_brier vegasA_brier vegasB_brier five38_brier group8A_points\n",
       "1 0.18696497    0.4096832    0.144400     0.2350203     -6.632408812 \n",
       "2 0.17157678    0.3675849    0.168100     0.1750891     -1.251500813 \n",
       "3 0.35255296    0.2500000    0.250000     0.4726884    -10.255296121 \n",
       "4 0.09901112    0.4309527    0.133225     0.0698654      3.803620176 \n",
       "5 0.35769313    0.1550093    0.348100     0.3674166      0.006939073 \n",
       "6 0.30903911    0.1836439    0.313600     0.3045116      0.972229442 \n",
       "  group8B_points vegasA_points vegasB_points five38_points\n",
       "1   6.303503     -15.968320    10.5600         1.497970   \n",
       "2   7.842322     -11.758493     8.1900         7.491086   \n",
       "3 -10.255296       0.000000     0.0000       -22.268844   \n",
       "4  15.098888     -18.095271    11.6775        18.013460   \n",
       "5 -10.769313       9.499072    -9.8100       -11.741665   \n",
       "6  -5.903911       6.635614    -6.3600        -5.451162   "
      ]
     },
     "metadata": {},
     "output_type": "display_data"
    }
   ],
   "source": [
    "#generate home probabilities for both vegas odds methods\n",
    "df$group8_home_probA <- (df$home_win_prob + df$vegas_probA)/2\n",
    "df$group8_home_probB <- (df$home_win_prob + df$vegas_probB)/2\n",
    "\n",
    "#generate away probabilities\n",
    "df$group8_away_probA <- abs(1 - df$group8_home_probA)\n",
    "df$group8_away_probB <- abs(1 - df$group8_home_probB)\n",
    "\n",
    "#evaluate brier scores for all probabilities\n",
    "df$group8A_brier <- (df$group8_home_probA-df$home_result)^2\n",
    "df$group8B_brier <- (df$group8_home_probB-df$home_result)^2\n",
    "df$vegasA_brier <- (df$vegas_probA-df$home_result)^2\n",
    "df$vegasB_brier <- (df$vegas_probB-df$home_result)^2\n",
    "df$five38_brier <- (df$home_win_prob-df$home_result)^2\n",
    "\n",
    "#evaluate points using FiveThirtyEight's point system\n",
    "df$group8A_points <- 25 - (100*df$group8A_brier)\n",
    "df$group8B_points <- 25 - (100*df$group8B_brier)\n",
    "df$vegasA_points <- 25 - (100*df$vegasA_brier)\n",
    "df$vegasB_points <- 25 - (100*df$vegasB_brier)\n",
    "df$five38_points <- 25 - (100*df$five38_brier)\n",
    "\n",
    "head(df)"
   ]
  },
  {
   "cell_type": "markdown",
   "metadata": {},
   "source": [
    "# Results\n",
    "\n",
    "Now lets aggregate all of the points and see how we did! We'll take this output and create some visualizations with it in our other notebooks."
   ]
  },
  {
   "cell_type": "code",
   "execution_count": 15,
   "metadata": {},
   "outputs": [
    {
     "data": {
      "text/html": [
       "<table>\n",
       "<thead><tr><th scope=col>schedule_season</th><th scope=col>group8_total_points</th><th scope=col>vegas_total_points</th><th scope=col>five38_total_points</th></tr></thead>\n",
       "<tbody>\n",
       "\t<tr><td>2002     </td><td> 688.1402</td><td> 653.0375</td><td>633.1252 </td></tr>\n",
       "\t<tr><td>2003     </td><td> 836.0192</td><td> 881.6925</td><td>713.3039 </td></tr>\n",
       "\t<tr><td>2004     </td><td> 837.1090</td><td> 899.4975</td><td>655.7038 </td></tr>\n",
       "\t<tr><td>2005     </td><td>1135.2946</td><td>1225.6525</td><td>963.5225 </td></tr>\n",
       "\t<tr><td>2006     </td><td> 575.6436</td><td> 584.0050</td><td>481.6456 </td></tr>\n",
       "\t<tr><td>2007     </td><td>1155.7797</td><td>1257.0250</td><td>938.1081 </td></tr>\n",
       "</tbody>\n",
       "</table>\n"
      ],
      "text/latex": [
       "\\begin{tabular}{r|llll}\n",
       " schedule\\_season & group8\\_total\\_points & vegas\\_total\\_points & five38\\_total\\_points\\\\\n",
       "\\hline\n",
       "\t 2002      &  688.1402 &  653.0375 & 633.1252 \\\\\n",
       "\t 2003      &  836.0192 &  881.6925 & 713.3039 \\\\\n",
       "\t 2004      &  837.1090 &  899.4975 & 655.7038 \\\\\n",
       "\t 2005      & 1135.2946 & 1225.6525 & 963.5225 \\\\\n",
       "\t 2006      &  575.6436 &  584.0050 & 481.6456 \\\\\n",
       "\t 2007      & 1155.7797 & 1257.0250 & 938.1081 \\\\\n",
       "\\end{tabular}\n"
      ],
      "text/markdown": [
       "\n",
       "| schedule_season | group8_total_points | vegas_total_points | five38_total_points |\n",
       "|---|---|---|---|\n",
       "| 2002      |  688.1402 |  653.0375 | 633.1252  |\n",
       "| 2003      |  836.0192 |  881.6925 | 713.3039  |\n",
       "| 2004      |  837.1090 |  899.4975 | 655.7038  |\n",
       "| 2005      | 1135.2946 | 1225.6525 | 963.5225  |\n",
       "| 2006      |  575.6436 |  584.0050 | 481.6456  |\n",
       "| 2007      | 1155.7797 | 1257.0250 | 938.1081  |\n",
       "\n"
      ],
      "text/plain": [
       "  schedule_season group8_total_points vegas_total_points five38_total_points\n",
       "1 2002             688.1402            653.0375          633.1252           \n",
       "2 2003             836.0192            881.6925          713.3039           \n",
       "3 2004             837.1090            899.4975          655.7038           \n",
       "4 2005            1135.2946           1225.6525          963.5225           \n",
       "5 2006             575.6436            584.0050          481.6456           \n",
       "6 2007            1155.7797           1257.0250          938.1081           "
      ]
     },
     "metadata": {},
     "output_type": "display_data"
    }
   ],
   "source": [
    "points_by_season <- df %>%\n",
    "    group_by(schedule_season) %>%\n",
    "    mutate(group8_total_points = sum(group8B_points)) %>%\n",
    "    mutate(vegas_total_points = sum(vegasB_points)) %>%\n",
    "    mutate(five38_total_points = sum(five38_points)) %>%\n",
    "    select(schedule_season,group8_total_points,vegas_total_points,five38_total_points) %>%\n",
    "    distinct()\n",
    "\n",
    "head(points_by_season)"
   ]
  },
  {
   "cell_type": "code",
   "execution_count": 16,
   "metadata": {},
   "outputs": [],
   "source": [
    "#write to csv that lands in the current directory\n",
    "write.csv(points_by_season,file=\"elo_output.csv\")"
   ]
  }
 ],
 "metadata": {
  "kernelspec": {
   "display_name": "R",
   "language": "R",
   "name": "ir"
  },
  "language_info": {
   "codemirror_mode": "r",
   "file_extension": ".r",
   "mimetype": "text/x-r-source",
   "name": "R",
   "pygments_lexer": "r",
   "version": "3.5.1"
  }
 },
 "nbformat": 4,
 "nbformat_minor": 2
}
